{
  "nbformat": 4,
  "nbformat_minor": 0,
  "metadata": {
    "colab": {
      "provenance": [],
      "collapsed_sections": [
        "Ag74I6L8nX86",
        "UJDqyRJ_Cy1k",
        "NuXlXIf2MjvF",
        "nQm-1_8OKI84"
      ]
    },
    "kernelspec": {
      "display_name": "Python 3",
      "name": "python3"
    },
    "gpuClass": "standard"
  },
  "cells": [
    {
      "cell_type": "markdown",
      "metadata": {
        "id": "RSYwDHfU8Zfh"
      },
      "source": [
        "#**Import** **necessary** **packages**"
      ]
    },
    {
      "cell_type": "code",
      "source": [
        "from google.colab import drive\n",
        "drive.mount('/content/drive')"
      ],
      "metadata": {
        "id": "WpvfK25v4zFD",
        "colab": {
          "base_uri": "https://localhost:8080/"
        },
        "outputId": "f477ba89-ae80-4eb8-8a42-8fc02b40dee6"
      },
      "execution_count": 1,
      "outputs": [
        {
          "output_type": "stream",
          "name": "stdout",
          "text": [
            "Mounted at /content/drive\n"
          ]
        }
      ]
    },
    {
      "cell_type": "code",
      "metadata": {
        "id": "DkdPbKF_ZmMl",
        "colab": {
          "base_uri": "https://localhost:8080/"
        },
        "outputId": "cd32e9e6-b565-44e9-ebcf-60738b4d2302"
      },
      "source": [
        "!pip install livelossplot"
      ],
      "execution_count": 2,
      "outputs": [
        {
          "output_type": "stream",
          "name": "stdout",
          "text": [
            "Looking in indexes: https://pypi.org/simple, https://us-python.pkg.dev/colab-wheels/public/simple/\n",
            "Collecting livelossplot\n",
            "  Downloading livelossplot-0.5.5-py3-none-any.whl (22 kB)\n",
            "Requirement already satisfied: matplotlib in /usr/local/lib/python3.8/dist-packages (from livelossplot) (3.2.2)\n",
            "Requirement already satisfied: bokeh in /usr/local/lib/python3.8/dist-packages (from livelossplot) (2.3.3)\n",
            "Requirement already satisfied: numpy>=1.11.3 in /usr/local/lib/python3.8/dist-packages (from bokeh->livelossplot) (1.21.6)\n",
            "Requirement already satisfied: python-dateutil>=2.1 in /usr/local/lib/python3.8/dist-packages (from bokeh->livelossplot) (2.8.2)\n",
            "Requirement already satisfied: PyYAML>=3.10 in /usr/local/lib/python3.8/dist-packages (from bokeh->livelossplot) (6.0)\n",
            "Requirement already satisfied: tornado>=5.1 in /usr/local/lib/python3.8/dist-packages (from bokeh->livelossplot) (6.0.4)\n",
            "Requirement already satisfied: Jinja2>=2.9 in /usr/local/lib/python3.8/dist-packages (from bokeh->livelossplot) (2.11.3)\n",
            "Requirement already satisfied: typing-extensions>=3.7.4 in /usr/local/lib/python3.8/dist-packages (from bokeh->livelossplot) (4.4.0)\n",
            "Requirement already satisfied: pillow>=7.1.0 in /usr/local/lib/python3.8/dist-packages (from bokeh->livelossplot) (7.1.2)\n",
            "Requirement already satisfied: packaging>=16.8 in /usr/local/lib/python3.8/dist-packages (from bokeh->livelossplot) (21.3)\n",
            "Requirement already satisfied: MarkupSafe>=0.23 in /usr/local/lib/python3.8/dist-packages (from Jinja2>=2.9->bokeh->livelossplot) (2.0.1)\n",
            "Requirement already satisfied: pyparsing!=3.0.5,>=2.0.2 in /usr/local/lib/python3.8/dist-packages (from packaging>=16.8->bokeh->livelossplot) (3.0.9)\n",
            "Requirement already satisfied: six>=1.5 in /usr/local/lib/python3.8/dist-packages (from python-dateutil>=2.1->bokeh->livelossplot) (1.15.0)\n",
            "Requirement already satisfied: kiwisolver>=1.0.1 in /usr/local/lib/python3.8/dist-packages (from matplotlib->livelossplot) (1.4.4)\n",
            "Requirement already satisfied: cycler>=0.10 in /usr/local/lib/python3.8/dist-packages (from matplotlib->livelossplot) (0.11.0)\n",
            "Installing collected packages: livelossplot\n",
            "Successfully installed livelossplot-0.5.5\n"
          ]
        }
      ]
    },
    {
      "cell_type": "code",
      "metadata": {
        "id": "aZVq9uz6nFjK"
      },
      "source": [
        "import random\n",
        "\n",
        "random.seed(42)"
      ],
      "execution_count": 3,
      "outputs": []
    },
    {
      "cell_type": "code",
      "metadata": {
        "id": "MlW0GEz88ZCu",
        "colab": {
          "base_uri": "https://localhost:8080/"
        },
        "outputId": "823fca1d-3c64-4835-8612-9926ff1c1a8f"
      },
      "source": [
        "from livelossplot import PlotLossesKeras\n",
        "import matplotlib.pyplot as plt\n",
        "import numpy as np\n",
        "import pandas as pd\n",
        "import seaborn as sns\n",
        "from tensorflow.keras.models import Model\n",
        "from tensorflow.keras.layers import Dense, Input\n",
        "\n",
        "\n",
        "# Make numpy printouts easier to read.\n",
        "np.set_printoptions(precision=3, suppress=True)\n",
        "import tensorflow as tf\n",
        "\n",
        "from tensorflow import keras\n",
        "from tensorflow.keras import layers\n",
        "from tensorflow.keras.layers.experimental import preprocessing\n",
        "\n",
        "print(tf.__version__)"
      ],
      "execution_count": 4,
      "outputs": [
        {
          "output_type": "stream",
          "name": "stdout",
          "text": [
            "2.9.2\n"
          ]
        }
      ]
    },
    {
      "cell_type": "markdown",
      "metadata": {
        "id": "owZUWvLH8lMo"
      },
      "source": [
        "#**Import dataset**"
      ]
    },
    {
      "cell_type": "code",
      "metadata": {
        "id": "izq7RASC8rYO",
        "colab": {
          "base_uri": "https://localhost:8080/",
          "height": 488
        },
        "outputId": "2697eee2-11ea-46cc-e0b9-043d6eba656b"
      },
      "source": [
        "data = pd.read_excel('/content/drive/MyDrive/humayun bhai thesis/merged.xlsx', index_col=0)\n",
        "data"
      ],
      "execution_count": 5,
      "outputs": [
        {
          "output_type": "execute_result",
          "data": {
            "text/plain": [
              "      Ship_Rule_Length  Ship_Breadth  Ship_Draft  RINA_Keel_Plate_Weight  \\\n",
              "0            80.346243     14.608408    4.173831                5.911089   \n",
              "1            65.600258     11.927320    3.407806                4.826224   \n",
              "2            71.600704     13.018310    3.719517                5.267678   \n",
              "3            70.357058     12.792192    3.654912                5.176183   \n",
              "4            82.675309     15.031874    4.294821                6.082439   \n",
              "...                ...           ...         ...                     ...   \n",
              "4995         79.612271     14.474958    4.135702                5.857091   \n",
              "4996         72.595725     13.199223    3.771207                5.340882   \n",
              "4997         77.609389     14.110798    4.031657                5.709738   \n",
              "4998         88.880584     16.160106    4.617173                6.538962   \n",
              "4999         73.492480     13.362269    3.817791                5.406856   \n",
              "\n",
              "      RINA_Bottom_Plate_Weight  RINA_Inner_Bottom_Plate_Weight  \\\n",
              "0                    54.427676                       89.757017   \n",
              "1                    36.282712                       59.834044   \n",
              "2                    43.223828                       71.280681   \n",
              "3                    41.735342                       68.826011   \n",
              "4                    57.628896                       95.036168   \n",
              "...                        ...                             ...   \n",
              "4995                 53.437811                       88.124625   \n",
              "4996                 44.433522                       73.275596   \n",
              "4997                 50.782862                       83.746332   \n",
              "4998                 66.604327                      109.837606   \n",
              "4999                 45.538052                       75.097083   \n",
              "\n",
              "      RINA_Side_Shell_Plate_Weight  RINA_Bulkhead_Weight  \\\n",
              "0                        26.578350              5.915969   \n",
              "1                        17.717725              3.943718   \n",
              "2                        21.107240              4.698176   \n",
              "3                        20.380377              4.536386   \n",
              "4                        28.141583              6.263922   \n",
              "...                            ...                   ...   \n",
              "4995                     26.094975              5.808376   \n",
              "4996                     21.697963              4.829663   \n",
              "4997                     24.798499              5.519799   \n",
              "4998                     32.524503              7.239499   \n",
              "4999                     22.237332              4.949719   \n",
              "\n",
              "      RINA_Main_Deck_Weight  BV_Keel_Plate_Weight  ...  \\\n",
              "0                 52.334304              5.911089  ...   \n",
              "1                 34.887223              4.826224  ...   \n",
              "2                 41.561373              5.267678  ...   \n",
              "3                 40.130137              5.176183  ...   \n",
              "4                 55.412400              6.082439  ...   \n",
              "...                     ...                   ...  ...   \n",
              "4995              51.382511              5.857091  ...   \n",
              "4996              42.724541              5.340882  ...   \n",
              "4997              48.829675              5.709738  ...   \n",
              "4998              64.042622              6.538962  ...   \n",
              "4999              43.786589              5.406856  ...   \n",
              "\n",
              "      KR_Inner_Bottom_Plate_Weight  KR_Side_Shell_Plate_Weight  \\\n",
              "0                        79.784015                   26.578350   \n",
              "1                        53.185817                   17.717725   \n",
              "2                        63.360605                   21.107240   \n",
              "3                        61.178676                   20.380377   \n",
              "4                        84.476594                   28.141583   \n",
              "...                            ...                         ...   \n",
              "4995                     78.333000                   26.094975   \n",
              "4996                     65.133863                   21.697963   \n",
              "4997                     74.441184                   24.798499   \n",
              "4998                     97.633428                   32.524503   \n",
              "4999                     66.752963                   22.237332   \n",
              "\n",
              "      KR_Bulkhead_Weight  KR_Main_Deck_Weight  LR_Keel_Plate_Weight  \\\n",
              "0               6.901963            45.792516              5.911089   \n",
              "1               4.601004            30.526320              4.826224   \n",
              "2               5.481205            36.366201              5.267678   \n",
              "3               5.292451            35.113870              5.176183   \n",
              "4               7.307909            48.485850              6.082439   \n",
              "...                  ...                  ...                   ...   \n",
              "4995            6.776439            44.959697              5.857091   \n",
              "4996            5.634607            37.383973              5.340882   \n",
              "4997            6.439765            42.725966              5.709738   \n",
              "4998            8.446082            56.037294              6.538962   \n",
              "4999            5.774672            38.313265              5.406856   \n",
              "\n",
              "      LR_Bottom_Plate_Weight  LR_Inner_Bottom_Plate_Weight  \\\n",
              "0                  61.231136                     89.757017   \n",
              "1                  40.818051                     59.834044   \n",
              "2                  48.626806                     71.280681   \n",
              "3                  46.952260                     68.826011   \n",
              "4                  64.832508                     95.036168   \n",
              "...                      ...                           ...   \n",
              "4995               60.117538                     88.124625   \n",
              "4996               49.987712                     73.275596   \n",
              "4997               57.130720                     83.746332   \n",
              "4998               74.929867                    109.837606   \n",
              "4999               51.230309                     75.097083   \n",
              "\n",
              "      LR_Side_Shell_Plate_Weight  LR_Bulkhead_Weight  LR_Main_Deck_Weight  \n",
              "0                      23.625200            6.901963            52.334304  \n",
              "1                      15.749089            4.601004            34.887223  \n",
              "2                      18.761991            5.481205            41.561373  \n",
              "3                      18.115890            5.292451            40.130137  \n",
              "4                      25.014740            7.307909            55.412400  \n",
              "...                          ...                 ...                  ...  \n",
              "4995                   23.195534            6.776439            51.382511  \n",
              "4996                   19.287078            5.634607            42.724541  \n",
              "4997                   22.043111            6.439765            48.829675  \n",
              "4998                   28.910669            8.446082            64.042622  \n",
              "4999                   19.766517            5.774672            43.786589  \n",
              "\n",
              "[5000 rows x 45 columns]"
            ],
            "text/html": [
              "\n",
              "  <div id=\"df-0d345f57-d4b3-4106-b402-369411862456\">\n",
              "    <div class=\"colab-df-container\">\n",
              "      <div>\n",
              "<style scoped>\n",
              "    .dataframe tbody tr th:only-of-type {\n",
              "        vertical-align: middle;\n",
              "    }\n",
              "\n",
              "    .dataframe tbody tr th {\n",
              "        vertical-align: top;\n",
              "    }\n",
              "\n",
              "    .dataframe thead th {\n",
              "        text-align: right;\n",
              "    }\n",
              "</style>\n",
              "<table border=\"1\" class=\"dataframe\">\n",
              "  <thead>\n",
              "    <tr style=\"text-align: right;\">\n",
              "      <th></th>\n",
              "      <th>Ship_Rule_Length</th>\n",
              "      <th>Ship_Breadth</th>\n",
              "      <th>Ship_Draft</th>\n",
              "      <th>RINA_Keel_Plate_Weight</th>\n",
              "      <th>RINA_Bottom_Plate_Weight</th>\n",
              "      <th>RINA_Inner_Bottom_Plate_Weight</th>\n",
              "      <th>RINA_Side_Shell_Plate_Weight</th>\n",
              "      <th>RINA_Bulkhead_Weight</th>\n",
              "      <th>RINA_Main_Deck_Weight</th>\n",
              "      <th>BV_Keel_Plate_Weight</th>\n",
              "      <th>...</th>\n",
              "      <th>KR_Inner_Bottom_Plate_Weight</th>\n",
              "      <th>KR_Side_Shell_Plate_Weight</th>\n",
              "      <th>KR_Bulkhead_Weight</th>\n",
              "      <th>KR_Main_Deck_Weight</th>\n",
              "      <th>LR_Keel_Plate_Weight</th>\n",
              "      <th>LR_Bottom_Plate_Weight</th>\n",
              "      <th>LR_Inner_Bottom_Plate_Weight</th>\n",
              "      <th>LR_Side_Shell_Plate_Weight</th>\n",
              "      <th>LR_Bulkhead_Weight</th>\n",
              "      <th>LR_Main_Deck_Weight</th>\n",
              "    </tr>\n",
              "  </thead>\n",
              "  <tbody>\n",
              "    <tr>\n",
              "      <th>0</th>\n",
              "      <td>80.346243</td>\n",
              "      <td>14.608408</td>\n",
              "      <td>4.173831</td>\n",
              "      <td>5.911089</td>\n",
              "      <td>54.427676</td>\n",
              "      <td>89.757017</td>\n",
              "      <td>26.578350</td>\n",
              "      <td>5.915969</td>\n",
              "      <td>52.334304</td>\n",
              "      <td>5.911089</td>\n",
              "      <td>...</td>\n",
              "      <td>79.784015</td>\n",
              "      <td>26.578350</td>\n",
              "      <td>6.901963</td>\n",
              "      <td>45.792516</td>\n",
              "      <td>5.911089</td>\n",
              "      <td>61.231136</td>\n",
              "      <td>89.757017</td>\n",
              "      <td>23.625200</td>\n",
              "      <td>6.901963</td>\n",
              "      <td>52.334304</td>\n",
              "    </tr>\n",
              "    <tr>\n",
              "      <th>1</th>\n",
              "      <td>65.600258</td>\n",
              "      <td>11.927320</td>\n",
              "      <td>3.407806</td>\n",
              "      <td>4.826224</td>\n",
              "      <td>36.282712</td>\n",
              "      <td>59.834044</td>\n",
              "      <td>17.717725</td>\n",
              "      <td>3.943718</td>\n",
              "      <td>34.887223</td>\n",
              "      <td>4.826224</td>\n",
              "      <td>...</td>\n",
              "      <td>53.185817</td>\n",
              "      <td>17.717725</td>\n",
              "      <td>4.601004</td>\n",
              "      <td>30.526320</td>\n",
              "      <td>4.826224</td>\n",
              "      <td>40.818051</td>\n",
              "      <td>59.834044</td>\n",
              "      <td>15.749089</td>\n",
              "      <td>4.601004</td>\n",
              "      <td>34.887223</td>\n",
              "    </tr>\n",
              "    <tr>\n",
              "      <th>2</th>\n",
              "      <td>71.600704</td>\n",
              "      <td>13.018310</td>\n",
              "      <td>3.719517</td>\n",
              "      <td>5.267678</td>\n",
              "      <td>43.223828</td>\n",
              "      <td>71.280681</td>\n",
              "      <td>21.107240</td>\n",
              "      <td>4.698176</td>\n",
              "      <td>41.561373</td>\n",
              "      <td>5.267678</td>\n",
              "      <td>...</td>\n",
              "      <td>63.360605</td>\n",
              "      <td>21.107240</td>\n",
              "      <td>5.481205</td>\n",
              "      <td>36.366201</td>\n",
              "      <td>5.267678</td>\n",
              "      <td>48.626806</td>\n",
              "      <td>71.280681</td>\n",
              "      <td>18.761991</td>\n",
              "      <td>5.481205</td>\n",
              "      <td>41.561373</td>\n",
              "    </tr>\n",
              "    <tr>\n",
              "      <th>3</th>\n",
              "      <td>70.357058</td>\n",
              "      <td>12.792192</td>\n",
              "      <td>3.654912</td>\n",
              "      <td>5.176183</td>\n",
              "      <td>41.735342</td>\n",
              "      <td>68.826011</td>\n",
              "      <td>20.380377</td>\n",
              "      <td>4.536386</td>\n",
              "      <td>40.130137</td>\n",
              "      <td>5.176183</td>\n",
              "      <td>...</td>\n",
              "      <td>61.178676</td>\n",
              "      <td>20.380377</td>\n",
              "      <td>5.292451</td>\n",
              "      <td>35.113870</td>\n",
              "      <td>5.176183</td>\n",
              "      <td>46.952260</td>\n",
              "      <td>68.826011</td>\n",
              "      <td>18.115890</td>\n",
              "      <td>5.292451</td>\n",
              "      <td>40.130137</td>\n",
              "    </tr>\n",
              "    <tr>\n",
              "      <th>4</th>\n",
              "      <td>82.675309</td>\n",
              "      <td>15.031874</td>\n",
              "      <td>4.294821</td>\n",
              "      <td>6.082439</td>\n",
              "      <td>57.628896</td>\n",
              "      <td>95.036168</td>\n",
              "      <td>28.141583</td>\n",
              "      <td>6.263922</td>\n",
              "      <td>55.412400</td>\n",
              "      <td>6.082439</td>\n",
              "      <td>...</td>\n",
              "      <td>84.476594</td>\n",
              "      <td>28.141583</td>\n",
              "      <td>7.307909</td>\n",
              "      <td>48.485850</td>\n",
              "      <td>6.082439</td>\n",
              "      <td>64.832508</td>\n",
              "      <td>95.036168</td>\n",
              "      <td>25.014740</td>\n",
              "      <td>7.307909</td>\n",
              "      <td>55.412400</td>\n",
              "    </tr>\n",
              "    <tr>\n",
              "      <th>...</th>\n",
              "      <td>...</td>\n",
              "      <td>...</td>\n",
              "      <td>...</td>\n",
              "      <td>...</td>\n",
              "      <td>...</td>\n",
              "      <td>...</td>\n",
              "      <td>...</td>\n",
              "      <td>...</td>\n",
              "      <td>...</td>\n",
              "      <td>...</td>\n",
              "      <td>...</td>\n",
              "      <td>...</td>\n",
              "      <td>...</td>\n",
              "      <td>...</td>\n",
              "      <td>...</td>\n",
              "      <td>...</td>\n",
              "      <td>...</td>\n",
              "      <td>...</td>\n",
              "      <td>...</td>\n",
              "      <td>...</td>\n",
              "      <td>...</td>\n",
              "    </tr>\n",
              "    <tr>\n",
              "      <th>4995</th>\n",
              "      <td>79.612271</td>\n",
              "      <td>14.474958</td>\n",
              "      <td>4.135702</td>\n",
              "      <td>5.857091</td>\n",
              "      <td>53.437811</td>\n",
              "      <td>88.124625</td>\n",
              "      <td>26.094975</td>\n",
              "      <td>5.808376</td>\n",
              "      <td>51.382511</td>\n",
              "      <td>5.857091</td>\n",
              "      <td>...</td>\n",
              "      <td>78.333000</td>\n",
              "      <td>26.094975</td>\n",
              "      <td>6.776439</td>\n",
              "      <td>44.959697</td>\n",
              "      <td>5.857091</td>\n",
              "      <td>60.117538</td>\n",
              "      <td>88.124625</td>\n",
              "      <td>23.195534</td>\n",
              "      <td>6.776439</td>\n",
              "      <td>51.382511</td>\n",
              "    </tr>\n",
              "    <tr>\n",
              "      <th>4996</th>\n",
              "      <td>72.595725</td>\n",
              "      <td>13.199223</td>\n",
              "      <td>3.771207</td>\n",
              "      <td>5.340882</td>\n",
              "      <td>44.433522</td>\n",
              "      <td>73.275596</td>\n",
              "      <td>21.697963</td>\n",
              "      <td>4.829663</td>\n",
              "      <td>42.724541</td>\n",
              "      <td>5.340882</td>\n",
              "      <td>...</td>\n",
              "      <td>65.133863</td>\n",
              "      <td>21.697963</td>\n",
              "      <td>5.634607</td>\n",
              "      <td>37.383973</td>\n",
              "      <td>5.340882</td>\n",
              "      <td>49.987712</td>\n",
              "      <td>73.275596</td>\n",
              "      <td>19.287078</td>\n",
              "      <td>5.634607</td>\n",
              "      <td>42.724541</td>\n",
              "    </tr>\n",
              "    <tr>\n",
              "      <th>4997</th>\n",
              "      <td>77.609389</td>\n",
              "      <td>14.110798</td>\n",
              "      <td>4.031657</td>\n",
              "      <td>5.709738</td>\n",
              "      <td>50.782862</td>\n",
              "      <td>83.746332</td>\n",
              "      <td>24.798499</td>\n",
              "      <td>5.519799</td>\n",
              "      <td>48.829675</td>\n",
              "      <td>5.709738</td>\n",
              "      <td>...</td>\n",
              "      <td>74.441184</td>\n",
              "      <td>24.798499</td>\n",
              "      <td>6.439765</td>\n",
              "      <td>42.725966</td>\n",
              "      <td>5.709738</td>\n",
              "      <td>57.130720</td>\n",
              "      <td>83.746332</td>\n",
              "      <td>22.043111</td>\n",
              "      <td>6.439765</td>\n",
              "      <td>48.829675</td>\n",
              "    </tr>\n",
              "    <tr>\n",
              "      <th>4998</th>\n",
              "      <td>88.880584</td>\n",
              "      <td>16.160106</td>\n",
              "      <td>4.617173</td>\n",
              "      <td>6.538962</td>\n",
              "      <td>66.604327</td>\n",
              "      <td>109.837606</td>\n",
              "      <td>32.524503</td>\n",
              "      <td>7.239499</td>\n",
              "      <td>64.042622</td>\n",
              "      <td>6.538962</td>\n",
              "      <td>...</td>\n",
              "      <td>97.633428</td>\n",
              "      <td>32.524503</td>\n",
              "      <td>8.446082</td>\n",
              "      <td>56.037294</td>\n",
              "      <td>6.538962</td>\n",
              "      <td>74.929867</td>\n",
              "      <td>109.837606</td>\n",
              "      <td>28.910669</td>\n",
              "      <td>8.446082</td>\n",
              "      <td>64.042622</td>\n",
              "    </tr>\n",
              "    <tr>\n",
              "      <th>4999</th>\n",
              "      <td>73.492480</td>\n",
              "      <td>13.362269</td>\n",
              "      <td>3.817791</td>\n",
              "      <td>5.406856</td>\n",
              "      <td>45.538052</td>\n",
              "      <td>75.097083</td>\n",
              "      <td>22.237332</td>\n",
              "      <td>4.949719</td>\n",
              "      <td>43.786589</td>\n",
              "      <td>5.406856</td>\n",
              "      <td>...</td>\n",
              "      <td>66.752963</td>\n",
              "      <td>22.237332</td>\n",
              "      <td>5.774672</td>\n",
              "      <td>38.313265</td>\n",
              "      <td>5.406856</td>\n",
              "      <td>51.230309</td>\n",
              "      <td>75.097083</td>\n",
              "      <td>19.766517</td>\n",
              "      <td>5.774672</td>\n",
              "      <td>43.786589</td>\n",
              "    </tr>\n",
              "  </tbody>\n",
              "</table>\n",
              "<p>5000 rows × 45 columns</p>\n",
              "</div>\n",
              "      <button class=\"colab-df-convert\" onclick=\"convertToInteractive('df-0d345f57-d4b3-4106-b402-369411862456')\"\n",
              "              title=\"Convert this dataframe to an interactive table.\"\n",
              "              style=\"display:none;\">\n",
              "        \n",
              "  <svg xmlns=\"http://www.w3.org/2000/svg\" height=\"24px\"viewBox=\"0 0 24 24\"\n",
              "       width=\"24px\">\n",
              "    <path d=\"M0 0h24v24H0V0z\" fill=\"none\"/>\n",
              "    <path d=\"M18.56 5.44l.94 2.06.94-2.06 2.06-.94-2.06-.94-.94-2.06-.94 2.06-2.06.94zm-11 1L8.5 8.5l.94-2.06 2.06-.94-2.06-.94L8.5 2.5l-.94 2.06-2.06.94zm10 10l.94 2.06.94-2.06 2.06-.94-2.06-.94-.94-2.06-.94 2.06-2.06.94z\"/><path d=\"M17.41 7.96l-1.37-1.37c-.4-.4-.92-.59-1.43-.59-.52 0-1.04.2-1.43.59L10.3 9.45l-7.72 7.72c-.78.78-.78 2.05 0 2.83L4 21.41c.39.39.9.59 1.41.59.51 0 1.02-.2 1.41-.59l7.78-7.78 2.81-2.81c.8-.78.8-2.07 0-2.86zM5.41 20L4 18.59l7.72-7.72 1.47 1.35L5.41 20z\"/>\n",
              "  </svg>\n",
              "      </button>\n",
              "      \n",
              "  <style>\n",
              "    .colab-df-container {\n",
              "      display:flex;\n",
              "      flex-wrap:wrap;\n",
              "      gap: 12px;\n",
              "    }\n",
              "\n",
              "    .colab-df-convert {\n",
              "      background-color: #E8F0FE;\n",
              "      border: none;\n",
              "      border-radius: 50%;\n",
              "      cursor: pointer;\n",
              "      display: none;\n",
              "      fill: #1967D2;\n",
              "      height: 32px;\n",
              "      padding: 0 0 0 0;\n",
              "      width: 32px;\n",
              "    }\n",
              "\n",
              "    .colab-df-convert:hover {\n",
              "      background-color: #E2EBFA;\n",
              "      box-shadow: 0px 1px 2px rgba(60, 64, 67, 0.3), 0px 1px 3px 1px rgba(60, 64, 67, 0.15);\n",
              "      fill: #174EA6;\n",
              "    }\n",
              "\n",
              "    [theme=dark] .colab-df-convert {\n",
              "      background-color: #3B4455;\n",
              "      fill: #D2E3FC;\n",
              "    }\n",
              "\n",
              "    [theme=dark] .colab-df-convert:hover {\n",
              "      background-color: #434B5C;\n",
              "      box-shadow: 0px 1px 3px 1px rgba(0, 0, 0, 0.15);\n",
              "      filter: drop-shadow(0px 1px 2px rgba(0, 0, 0, 0.3));\n",
              "      fill: #FFFFFF;\n",
              "    }\n",
              "  </style>\n",
              "\n",
              "      <script>\n",
              "        const buttonEl =\n",
              "          document.querySelector('#df-0d345f57-d4b3-4106-b402-369411862456 button.colab-df-convert');\n",
              "        buttonEl.style.display =\n",
              "          google.colab.kernel.accessAllowed ? 'block' : 'none';\n",
              "\n",
              "        async function convertToInteractive(key) {\n",
              "          const element = document.querySelector('#df-0d345f57-d4b3-4106-b402-369411862456');\n",
              "          const dataTable =\n",
              "            await google.colab.kernel.invokeFunction('convertToInteractive',\n",
              "                                                     [key], {});\n",
              "          if (!dataTable) return;\n",
              "\n",
              "          const docLinkHtml = 'Like what you see? Visit the ' +\n",
              "            '<a target=\"_blank\" href=https://colab.research.google.com/notebooks/data_table.ipynb>data table notebook</a>'\n",
              "            + ' to learn more about interactive tables.';\n",
              "          element.innerHTML = '';\n",
              "          dataTable['output_type'] = 'display_data';\n",
              "          await google.colab.output.renderOutput(dataTable, element);\n",
              "          const docLink = document.createElement('div');\n",
              "          docLink.innerHTML = docLinkHtml;\n",
              "          element.appendChild(docLink);\n",
              "        }\n",
              "      </script>\n",
              "    </div>\n",
              "  </div>\n",
              "  "
            ]
          },
          "metadata": {},
          "execution_count": 5
        }
      ]
    },
    {
      "cell_type": "code",
      "metadata": {
        "id": "BLD6t8ttuUC7"
      },
      "source": [
        "dataset = data.sample(frac=1)\n",
        "# dataset.to_excel('sample.xls')"
      ],
      "execution_count": 6,
      "outputs": []
    },
    {
      "cell_type": "code",
      "source": [
        "plt.scatter(data.iloc[:,0], data.iloc[:,10])"
      ],
      "metadata": {
        "id": "Q0dnpEJB5Rf-",
        "colab": {
          "base_uri": "https://localhost:8080/",
          "height": 282
        },
        "outputId": "70dcbc88-9286-4325-d848-254da725ccb1"
      },
      "execution_count": 7,
      "outputs": [
        {
          "output_type": "execute_result",
          "data": {
            "text/plain": [
              "<matplotlib.collections.PathCollection at 0x7ff97e6e3460>"
            ]
          },
          "metadata": {},
          "execution_count": 7
        },
        {
          "output_type": "display_data",
          "data": {
            "text/plain": [
              "<Figure size 432x288 with 1 Axes>"
            ],
            "image/png": "[encoded data removed]"
          },
          "metadata": {
            "needs_background": "light"
          }
        }
      ]
    },
    {
      "cell_type": "markdown",
      "metadata": {
        "id": "1Po0Axk886k_"
      },
      "source": [
        "#**Clean the dataset (CL)**"
      ]
    },
    {
      "cell_type": "code",
      "metadata": {
        "id": "XiHAAKFxIyhc"
      },
      "source": [
        "# dataset = dataset[['airfoil','re', 'alpha', 'cd']].copy()"
      ],
      "execution_count": 8,
      "outputs": []
    },
    {
      "cell_type": "code",
      "metadata": {
        "id": "goSGUR-XI-a1"
      },
      "source": [
        "# dataset"
      ],
      "execution_count": 9,
      "outputs": []
    },
    {
      "cell_type": "code",
      "source": [
        "# dataset[\"airfoil\"].replace({\"naca_0012\": 1, \"naca_0015\": 2, \"naca_0018\": 3}, inplace=True)\n",
        "# dataset.head(10)"
      ],
      "metadata": {
        "id": "TZfNMJz_AK0Q"
      },
      "execution_count": 10,
      "outputs": []
    },
    {
      "cell_type": "code",
      "source": [
        "# dataset[\"cd\"] = dataset.cd.astype(float)"
      ],
      "metadata": {
        "id": "rr2iH5rRCI5q"
      },
      "execution_count": 11,
      "outputs": []
    },
    {
      "cell_type": "code",
      "source": [
        "# dataset"
      ],
      "metadata": {
        "id": "lZC_zbR5EZPi"
      },
      "execution_count": 12,
      "outputs": []
    },
    {
      "cell_type": "markdown",
      "metadata": {
        "id": "CIZcjVIy9GqZ"
      },
      "source": [
        "#**Split the data into train and test**"
      ]
    },
    {
      "cell_type": "code",
      "metadata": {
        "id": "Aqpz3I5iVdcD"
      },
      "source": [
        "train_dataset = dataset.sample(frac=0.9, random_state=0)\n",
        "test_dataset = dataset.drop(train_dataset.index)"
      ],
      "execution_count": 13,
      "outputs": []
    },
    {
      "cell_type": "code",
      "source": [
        "train_dataset.shape"
      ],
      "metadata": {
        "id": "zAmyLTYrHRlA",
        "colab": {
          "base_uri": "https://localhost:8080/"
        },
        "outputId": "9e42c34d-c7d8-49dc-9f91-8b6503f6537d"
      },
      "execution_count": 14,
      "outputs": [
        {
          "output_type": "execute_result",
          "data": {
            "text/plain": [
              "(4500, 45)"
            ]
          },
          "metadata": {},
          "execution_count": 14
        }
      ]
    },
    {
      "cell_type": "code",
      "metadata": {
        "id": "pgY0h_aRIO9U",
        "colab": {
          "base_uri": "https://localhost:8080/"
        },
        "outputId": "22b16af0-cb47-40d7-90bb-1df881cb4070"
      },
      "source": [
        "test_dataset.shape"
      ],
      "execution_count": 15,
      "outputs": [
        {
          "output_type": "execute_result",
          "data": {
            "text/plain": [
              "(500, 45)"
            ]
          },
          "metadata": {},
          "execution_count": 15
        }
      ]
    },
    {
      "cell_type": "code",
      "metadata": {
        "id": "qn-IGhUE7_1H"
      },
      "source": [
        "# Cl_train_dataset = Cl_data.sample(frac=0.8, random_state=0)\n",
        "# Cl_test_dataset = Cl_data.drop(Cl_train_dataset.index)"
      ],
      "execution_count": 16,
      "outputs": []
    },
    {
      "cell_type": "code",
      "metadata": {
        "id": "dhjOdNKFpOkM"
      },
      "source": [
        "# Cl_train_dataset"
      ],
      "execution_count": 17,
      "outputs": []
    },
    {
      "cell_type": "markdown",
      "metadata": {
        "id": "boWLyZAd9Z2q"
      },
      "source": [
        "#**Inspect the data**"
      ]
    },
    {
      "cell_type": "code",
      "metadata": {
        "id": "gvBQbijMHfF5"
      },
      "source": [
        "# sns.pairplot(train_dataset[['Re','alpha', 'CD']], diag_kind='kde')"
      ],
      "execution_count": 18,
      "outputs": []
    },
    {
      "cell_type": "markdown",
      "metadata": {
        "id": "VQaAVyaP9hGc"
      },
      "source": [
        "#**Split features from labels**"
      ]
    },
    {
      "cell_type": "code",
      "metadata": {
        "id": "4SwLS1x-VGvE"
      },
      "source": [
        "# train_features = train_dataset.copy()\n",
        "# test_features = test_dataset.copy()\n",
        "\n",
        "train_features = train_dataset.iloc[:,0:3]\n",
        "train_labels = train_dataset.iloc[:,3:]\n",
        "\n",
        "test_features = test_dataset.iloc[:,0:3]\n",
        "\n",
        "\n",
        "test_labels = test_dataset.iloc[:,3:]\n",
        "# train_labels = train_features.pop([['Keel_Plate_Weight', 'Bottom_Plate_Weight', 'Inner_Bottom_Plate_Weight', 'Side_Shell_Plate_Weight']])\n",
        "# test_labels = test_features.pop([['Keel_Plate_Weight', 'Bottom_Plate_Weight', 'Inner_Bottom_Plate_Weight', 'Side_Shell_Plate_Weight']])\n"
      ],
      "execution_count": 19,
      "outputs": []
    },
    {
      "cell_type": "code",
      "metadata": {
        "id": "9GbVWLDgOpRJ",
        "colab": {
          "base_uri": "https://localhost:8080/"
        },
        "outputId": "d00e78a7-717d-44d5-dccd-6f329587cac8"
      },
      "source": [
        "test_features.shape"
      ],
      "execution_count": 20,
      "outputs": [
        {
          "output_type": "execute_result",
          "data": {
            "text/plain": [
              "(500, 3)"
            ]
          },
          "metadata": {},
          "execution_count": 20
        }
      ]
    },
    {
      "cell_type": "code",
      "metadata": {
        "id": "SRhM6kQ1N9WB"
      },
      "source": [
        "# train_features.drop('CL', axis=1, inplace=True)\n",
        "# test_features.drop('CL', axis=1, inplace=True)\n",
        "# train_features.drop('CD', axis=1, inplace=True)\n",
        "# test_features.drop('CD', axis=1, inplace=True)"
      ],
      "execution_count": 21,
      "outputs": []
    },
    {
      "cell_type": "code",
      "metadata": {
        "id": "6RbkXQ1gZ1te",
        "colab": {
          "base_uri": "https://localhost:8080/"
        },
        "outputId": "eda91fb1-3eb1-4869-ee6d-1d1c3a7273a3"
      },
      "source": [
        "test_features.shape"
      ],
      "execution_count": 22,
      "outputs": [
        {
          "output_type": "execute_result",
          "data": {
            "text/plain": [
              "(500, 3)"
            ]
          },
          "metadata": {},
          "execution_count": 22
        }
      ]
    },
    {
      "cell_type": "code",
      "metadata": {
        "id": "wK1_9mmUZ6n7",
        "colab": {
          "base_uri": "https://localhost:8080/",
          "height": 488
        },
        "outputId": "da7bdf19-cb4e-43c4-e2a6-b90058d615bf"
      },
      "source": [
        "train_labels"
      ],
      "execution_count": 23,
      "outputs": [
        {
          "output_type": "execute_result",
          "data": {
            "text/plain": [
              "      RINA_Keel_Plate_Weight  RINA_Bottom_Plate_Weight  \\\n",
              "2120                4.793738                 35.795911   \n",
              "1355                5.026431                 39.355393   \n",
              "3568                5.718519                 50.939180   \n",
              "1252                5.760811                 51.695415   \n",
              "2541                6.296405                 61.754717   \n",
              "...                      ...                       ...   \n",
              "2317                5.908888                 54.387155   \n",
              "4612                5.430216                 45.932378   \n",
              "4992                6.431021                 64.423553   \n",
              "2991                5.463506                 46.497292   \n",
              "835                 5.505956                 47.222638   \n",
              "\n",
              "      RINA_Inner_Bottom_Plate_Weight  RINA_Side_Shell_Plate_Weight  \\\n",
              "2120                       59.031258                     17.480009   \n",
              "1355                       64.901221                     19.218190   \n",
              "3568                       84.004116                     24.874833   \n",
              "1252                       85.251227                     25.244121   \n",
              "2541                      101.840085                     30.156321   \n",
              "...                              ...                           ...   \n",
              "2317                       89.690193                     26.558563   \n",
              "4612                       75.747368                     22.429891   \n",
              "4992                      106.241278                     31.459578   \n",
              "2991                       76.678971                     22.705752   \n",
              "835                        77.875144                     23.059956   \n",
              "\n",
              "      RINA_Bulkhead_Weight  RINA_Main_Deck_Weight  BV_Keel_Plate_Weight  \\\n",
              "2120              3.890805              34.419145              4.793738   \n",
              "1355              4.277700              37.841724              5.026431   \n",
              "3568              5.536789              48.979980              5.718519   \n",
              "1252              5.618988              49.707129              5.760811   \n",
              "2541              6.712375              59.379535              6.296405   \n",
              "...                    ...                    ...                   ...   \n",
              "2317              5.911564              52.295341              5.908888   \n",
              "4612              4.992580              44.165748              5.430216   \n",
              "4992              7.002462              61.945724              6.431021   \n",
              "2991              5.053982              44.708935              5.463506   \n",
              "835               5.132823              45.406383              5.505956   \n",
              "\n",
              "      BV_Bottom_Plate_Weight  BV_Inner_Bottom_Plate_Weight  \\\n",
              "2120               35.795911                     59.031258   \n",
              "1355               39.355393                     64.901221   \n",
              "3568               50.939180                     84.004116   \n",
              "1252               51.695415                     85.251227   \n",
              "2541               61.754717                    101.840085   \n",
              "...                      ...                           ...   \n",
              "2317               54.387155                     89.690193   \n",
              "4612               45.932378                     75.747368   \n",
              "4992               64.423553                    106.241278   \n",
              "2991               46.497292                     76.678971   \n",
              "835                47.222638                     77.875144   \n",
              "\n",
              "      BV_Side_Shell_Plate_Weight  ...  KR_Inner_Bottom_Plate_Weight  \\\n",
              "2120                   17.480009  ...                     52.472229   \n",
              "1355                   19.218190  ...                     57.689975   \n",
              "3568                   24.874833  ...                     74.670325   \n",
              "1252                   25.244121  ...                     75.778869   \n",
              "2541                   30.156321  ...                     90.524520   \n",
              "...                          ...  ...                           ...   \n",
              "2317                   26.558563  ...                     79.724616   \n",
              "4612                   22.429891  ...                     67.330994   \n",
              "4992                   31.459578  ...                     94.436692   \n",
              "2991                   22.705752  ...                     68.159086   \n",
              "835                    23.059956  ...                     69.222350   \n",
              "\n",
              "      KR_Side_Shell_Plate_Weight  KR_Bulkhead_Weight  KR_Main_Deck_Weight  \\\n",
              "2120                   17.480009            4.539273            30.116752   \n",
              "1355                   19.218190            4.990650            33.111508   \n",
              "3568                   24.874833            6.459588            42.857483   \n",
              "1252                   25.244121            6.555486            43.493738   \n",
              "2541                   30.156321            7.831104            51.957093   \n",
              "...                          ...                 ...                  ...   \n",
              "2317                   26.558563            6.896825            45.758424   \n",
              "4612                   22.429891            5.824676            38.645029   \n",
              "4992                   31.459578            8.169538            54.202508   \n",
              "2991                   22.705752            5.896313            39.120318   \n",
              "835                    23.059956            5.988294            39.730585   \n",
              "\n",
              "      LR_Keel_Plate_Weight  LR_Bottom_Plate_Weight  \\\n",
              "2120              4.793738               40.270400   \n",
              "1355              5.026431               44.274817   \n",
              "3568              5.718519               57.306577   \n",
              "1252              5.760811               58.157341   \n",
              "2541              6.296405               69.474056   \n",
              "...                    ...                     ...   \n",
              "2317              5.908888               61.185549   \n",
              "4612              5.430216               51.673925   \n",
              "4992              6.431021               72.476497   \n",
              "2991              5.463506               52.309453   \n",
              "835               5.505956               53.125468   \n",
              "\n",
              "      LR_Inner_Bottom_Plate_Weight  LR_Side_Shell_Plate_Weight  \\\n",
              "2120                     59.031258                   15.537786   \n",
              "1355                     64.901221                   17.082835   \n",
              "3568                     84.004116                   22.110963   \n",
              "1252                     85.251227                   22.439218   \n",
              "2541                    101.840085                   26.805619   \n",
              "...                            ...                         ...   \n",
              "2317                     89.690193                   23.607611   \n",
              "4612                     75.747368                   19.937680   \n",
              "4992                    106.241278                   27.964070   \n",
              "2991                     76.678971                   20.182890   \n",
              "835                      77.875144                   20.497738   \n",
              "\n",
              "      LR_Bulkhead_Weight  LR_Main_Deck_Weight  \n",
              "2120            4.539273            34.419145  \n",
              "1355            4.990650            37.841724  \n",
              "3568            6.459588            48.979980  \n",
              "1252            6.555486            49.707129  \n",
              "2541            7.831104            59.379535  \n",
              "...                  ...                  ...  \n",
              "2317            6.896825            52.295341  \n",
              "4612            5.824676            44.165748  \n",
              "4992            8.169538            61.945724  \n",
              "2991            5.896313            44.708935  \n",
              "835             5.988294            45.406383  \n",
              "\n",
              "[4500 rows x 42 columns]"
            ],
            "text/html": [
              "\n",
              "  <div id=\"df-41313180-6551-4b1f-b5b0-6745c67c4ea8\">\n",
              "    <div class=\"colab-df-container\">\n",
              "      <div>\n",
              "<style scoped>\n",
              "    .dataframe tbody tr th:only-of-type {\n",
              "        vertical-align: middle;\n",
              "    }\n",
              "\n",
              "    .dataframe tbody tr th {\n",
              "        vertical-align: top;\n",
              "    }\n",
              "\n",
              "    .dataframe thead th {\n",
              "        text-align: right;\n",
              "    }\n",
              "</style>\n",
              "<table border=\"1\" class=\"dataframe\">\n",
              "  <thead>\n",
              "    <tr style=\"text-align: right;\">\n",
              "      <th></th>\n",
              "      <th>RINA_Keel_Plate_Weight</th>\n",
              "      <th>RINA_Bottom_Plate_Weight</th>\n",
              "      <th>RINA_Inner_Bottom_Plate_Weight</th>\n",
              "      <th>RINA_Side_Shell_Plate_Weight</th>\n",
              "      <th>RINA_Bulkhead_Weight</th>\n",
              "      <th>RINA_Main_Deck_Weight</th>\n",
              "      <th>BV_Keel_Plate_Weight</th>\n",
              "      <th>BV_Bottom_Plate_Weight</th>\n",
              "      <th>BV_Inner_Bottom_Plate_Weight</th>\n",
              "      <th>BV_Side_Shell_Plate_Weight</th>\n",
              "      <th>...</th>\n",
              "      <th>KR_Inner_Bottom_Plate_Weight</th>\n",
              "      <th>KR_Side_Shell_Plate_Weight</th>\n",
              "      <th>KR_Bulkhead_Weight</th>\n",
              "      <th>KR_Main_Deck_Weight</th>\n",
              "      <th>LR_Keel_Plate_Weight</th>\n",
              "      <th>LR_Bottom_Plate_Weight</th>\n",
              "      <th>LR_Inner_Bottom_Plate_Weight</th>\n",
              "      <th>LR_Side_Shell_Plate_Weight</th>\n",
              "      <th>LR_Bulkhead_Weight</th>\n",
              "      <th>LR_Main_Deck_Weight</th>\n",
              "    </tr>\n",
              "  </thead>\n",
              "  <tbody>\n",
              "    <tr>\n",
              "      <th>2120</th>\n",
              "      <td>4.793738</td>\n",
              "      <td>35.795911</td>\n",
              "      <td>59.031258</td>\n",
              "      <td>17.480009</td>\n",
              "      <td>3.890805</td>\n",
              "      <td>34.419145</td>\n",
              "      <td>4.793738</td>\n",
              "      <td>35.795911</td>\n",
              "      <td>59.031258</td>\n",
              "      <td>17.480009</td>\n",
              "      <td>...</td>\n",
              "      <td>52.472229</td>\n",
              "      <td>17.480009</td>\n",
              "      <td>4.539273</td>\n",
              "      <td>30.116752</td>\n",
              "      <td>4.793738</td>\n",
              "      <td>40.270400</td>\n",
              "      <td>59.031258</td>\n",
              "      <td>15.537786</td>\n",
              "      <td>4.539273</td>\n",
              "      <td>34.419145</td>\n",
              "    </tr>\n",
              "    <tr>\n",
              "      <th>1355</th>\n",
              "      <td>5.026431</td>\n",
              "      <td>39.355393</td>\n",
              "      <td>64.901221</td>\n",
              "      <td>19.218190</td>\n",
              "      <td>4.277700</td>\n",
              "      <td>37.841724</td>\n",
              "      <td>5.026431</td>\n",
              "      <td>39.355393</td>\n",
              "      <td>64.901221</td>\n",
              "      <td>19.218190</td>\n",
              "      <td>...</td>\n",
              "      <td>57.689975</td>\n",
              "      <td>19.218190</td>\n",
              "      <td>4.990650</td>\n",
              "      <td>33.111508</td>\n",
              "      <td>5.026431</td>\n",
              "      <td>44.274817</td>\n",
              "      <td>64.901221</td>\n",
              "      <td>17.082835</td>\n",
              "      <td>4.990650</td>\n",
              "      <td>37.841724</td>\n",
              "    </tr>\n",
              "    <tr>\n",
              "      <th>3568</th>\n",
              "      <td>5.718519</td>\n",
              "      <td>50.939180</td>\n",
              "      <td>84.004116</td>\n",
              "      <td>24.874833</td>\n",
              "      <td>5.536789</td>\n",
              "      <td>48.979980</td>\n",
              "      <td>5.718519</td>\n",
              "      <td>50.939180</td>\n",
              "      <td>84.004116</td>\n",
              "      <td>24.874833</td>\n",
              "      <td>...</td>\n",
              "      <td>74.670325</td>\n",
              "      <td>24.874833</td>\n",
              "      <td>6.459588</td>\n",
              "      <td>42.857483</td>\n",
              "      <td>5.718519</td>\n",
              "      <td>57.306577</td>\n",
              "      <td>84.004116</td>\n",
              "      <td>22.110963</td>\n",
              "      <td>6.459588</td>\n",
              "      <td>48.979980</td>\n",
              "    </tr>\n",
              "    <tr>\n",
              "      <th>1252</th>\n",
              "      <td>5.760811</td>\n",
              "      <td>51.695415</td>\n",
              "      <td>85.251227</td>\n",
              "      <td>25.244121</td>\n",
              "      <td>5.618988</td>\n",
              "      <td>49.707129</td>\n",
              "      <td>5.760811</td>\n",
              "      <td>51.695415</td>\n",
              "      <td>85.251227</td>\n",
              "      <td>25.244121</td>\n",
              "      <td>...</td>\n",
              "      <td>75.778869</td>\n",
              "      <td>25.244121</td>\n",
              "      <td>6.555486</td>\n",
              "      <td>43.493738</td>\n",
              "      <td>5.760811</td>\n",
              "      <td>58.157341</td>\n",
              "      <td>85.251227</td>\n",
              "      <td>22.439218</td>\n",
              "      <td>6.555486</td>\n",
              "      <td>49.707129</td>\n",
              "    </tr>\n",
              "    <tr>\n",
              "      <th>2541</th>\n",
              "      <td>6.296405</td>\n",
              "      <td>61.754717</td>\n",
              "      <td>101.840085</td>\n",
              "      <td>30.156321</td>\n",
              "      <td>6.712375</td>\n",
              "      <td>59.379535</td>\n",
              "      <td>6.296405</td>\n",
              "      <td>61.754717</td>\n",
              "      <td>101.840085</td>\n",
              "      <td>30.156321</td>\n",
              "      <td>...</td>\n",
              "      <td>90.524520</td>\n",
              "      <td>30.156321</td>\n",
              "      <td>7.831104</td>\n",
              "      <td>51.957093</td>\n",
              "      <td>6.296405</td>\n",
              "      <td>69.474056</td>\n",
              "      <td>101.840085</td>\n",
              "      <td>26.805619</td>\n",
              "      <td>7.831104</td>\n",
              "      <td>59.379535</td>\n",
              "    </tr>\n",
              "    <tr>\n",
              "      <th>...</th>\n",
              "      <td>...</td>\n",
              "      <td>...</td>\n",
              "      <td>...</td>\n",
              "      <td>...</td>\n",
              "      <td>...</td>\n",
              "      <td>...</td>\n",
              "      <td>...</td>\n",
              "      <td>...</td>\n",
              "      <td>...</td>\n",
              "      <td>...</td>\n",
              "      <td>...</td>\n",
              "      <td>...</td>\n",
              "      <td>...</td>\n",
              "      <td>...</td>\n",
              "      <td>...</td>\n",
              "      <td>...</td>\n",
              "      <td>...</td>\n",
              "      <td>...</td>\n",
              "      <td>...</td>\n",
              "      <td>...</td>\n",
              "      <td>...</td>\n",
              "    </tr>\n",
              "    <tr>\n",
              "      <th>2317</th>\n",
              "      <td>5.908888</td>\n",
              "      <td>54.387155</td>\n",
              "      <td>89.690193</td>\n",
              "      <td>26.558563</td>\n",
              "      <td>5.911564</td>\n",
              "      <td>52.295341</td>\n",
              "      <td>5.908888</td>\n",
              "      <td>54.387155</td>\n",
              "      <td>89.690193</td>\n",
              "      <td>26.558563</td>\n",
              "      <td>...</td>\n",
              "      <td>79.724616</td>\n",
              "      <td>26.558563</td>\n",
              "      <td>6.896825</td>\n",
              "      <td>45.758424</td>\n",
              "      <td>5.908888</td>\n",
              "      <td>61.185549</td>\n",
              "      <td>89.690193</td>\n",
              "      <td>23.607611</td>\n",
              "      <td>6.896825</td>\n",
              "      <td>52.295341</td>\n",
              "    </tr>\n",
              "    <tr>\n",
              "      <th>4612</th>\n",
              "      <td>5.430216</td>\n",
              "      <td>45.932378</td>\n",
              "      <td>75.747368</td>\n",
              "      <td>22.429891</td>\n",
              "      <td>4.992580</td>\n",
              "      <td>44.165748</td>\n",
              "      <td>5.430216</td>\n",
              "      <td>45.932378</td>\n",
              "      <td>75.747368</td>\n",
              "      <td>22.429891</td>\n",
              "      <td>...</td>\n",
              "      <td>67.330994</td>\n",
              "      <td>22.429891</td>\n",
              "      <td>5.824676</td>\n",
              "      <td>38.645029</td>\n",
              "      <td>5.430216</td>\n",
              "      <td>51.673925</td>\n",
              "      <td>75.747368</td>\n",
              "      <td>19.937680</td>\n",
              "      <td>5.824676</td>\n",
              "      <td>44.165748</td>\n",
              "    </tr>\n",
              "    <tr>\n",
              "      <th>4992</th>\n",
              "      <td>6.431021</td>\n",
              "      <td>64.423553</td>\n",
              "      <td>106.241278</td>\n",
              "      <td>31.459578</td>\n",
              "      <td>7.002462</td>\n",
              "      <td>61.945724</td>\n",
              "      <td>6.431021</td>\n",
              "      <td>64.423553</td>\n",
              "      <td>106.241278</td>\n",
              "      <td>31.459578</td>\n",
              "      <td>...</td>\n",
              "      <td>94.436692</td>\n",
              "      <td>31.459578</td>\n",
              "      <td>8.169538</td>\n",
              "      <td>54.202508</td>\n",
              "      <td>6.431021</td>\n",
              "      <td>72.476497</td>\n",
              "      <td>106.241278</td>\n",
              "      <td>27.964070</td>\n",
              "      <td>8.169538</td>\n",
              "      <td>61.945724</td>\n",
              "    </tr>\n",
              "    <tr>\n",
              "      <th>2991</th>\n",
              "      <td>5.463506</td>\n",
              "      <td>46.497292</td>\n",
              "      <td>76.678971</td>\n",
              "      <td>22.705752</td>\n",
              "      <td>5.053982</td>\n",
              "      <td>44.708935</td>\n",
              "      <td>5.463506</td>\n",
              "      <td>46.497292</td>\n",
              "      <td>76.678971</td>\n",
              "      <td>22.705752</td>\n",
              "      <td>...</td>\n",
              "      <td>68.159086</td>\n",
              "      <td>22.705752</td>\n",
              "      <td>5.896313</td>\n",
              "      <td>39.120318</td>\n",
              "      <td>5.463506</td>\n",
              "      <td>52.309453</td>\n",
              "      <td>76.678971</td>\n",
              "      <td>20.182890</td>\n",
              "      <td>5.896313</td>\n",
              "      <td>44.708935</td>\n",
              "    </tr>\n",
              "    <tr>\n",
              "      <th>835</th>\n",
              "      <td>5.505956</td>\n",
              "      <td>47.222638</td>\n",
              "      <td>77.875144</td>\n",
              "      <td>23.059956</td>\n",
              "      <td>5.132823</td>\n",
              "      <td>45.406383</td>\n",
              "      <td>5.505956</td>\n",
              "      <td>47.222638</td>\n",
              "      <td>77.875144</td>\n",
              "      <td>23.059956</td>\n",
              "      <td>...</td>\n",
              "      <td>69.222350</td>\n",
              "      <td>23.059956</td>\n",
              "      <td>5.988294</td>\n",
              "      <td>39.730585</td>\n",
              "      <td>5.505956</td>\n",
              "      <td>53.125468</td>\n",
              "      <td>77.875144</td>\n",
              "      <td>20.497738</td>\n",
              "      <td>5.988294</td>\n",
              "      <td>45.406383</td>\n",
              "    </tr>\n",
              "  </tbody>\n",
              "</table>\n",
              "<p>4500 rows × 42 columns</p>\n",
              "</div>\n",
              "      <button class=\"colab-df-convert\" onclick=\"convertToInteractive('df-41313180-6551-4b1f-b5b0-6745c67c4ea8')\"\n",
              "              title=\"Convert this dataframe to an interactive table.\"\n",
              "              style=\"display:none;\">\n",
              "        \n",
              "  <svg xmlns=\"http://www.w3.org/2000/svg\" height=\"24px\"viewBox=\"0 0 24 24\"\n",
              "       width=\"24px\">\n",
              "    <path d=\"M0 0h24v24H0V0z\" fill=\"none\"/>\n",
              "    <path d=\"M18.56 5.44l.94 2.06.94-2.06 2.06-.94-2.06-.94-.94-2.06-.94 2.06-2.06.94zm-11 1L8.5 8.5l.94-2.06 2.06-.94-2.06-.94L8.5 2.5l-.94 2.06-2.06.94zm10 10l.94 2.06.94-2.06 2.06-.94-2.06-.94-.94-2.06-.94 2.06-2.06.94z\"/><path d=\"M17.41 7.96l-1.37-1.37c-.4-.4-.92-.59-1.43-.59-.52 0-1.04.2-1.43.59L10.3 9.45l-7.72 7.72c-.78.78-.78 2.05 0 2.83L4 21.41c.39.39.9.59 1.41.59.51 0 1.02-.2 1.41-.59l7.78-7.78 2.81-2.81c.8-.78.8-2.07 0-2.86zM5.41 20L4 18.59l7.72-7.72 1.47 1.35L5.41 20z\"/>\n",
              "  </svg>\n",
              "      </button>\n",
              "      \n",
              "  <style>\n",
              "    .colab-df-container {\n",
              "      display:flex;\n",
              "      flex-wrap:wrap;\n",
              "      gap: 12px;\n",
              "    }\n",
              "\n",
              "    .colab-df-convert {\n",
              "      background-color: #E8F0FE;\n",
              "      border: none;\n",
              "      border-radius: 50%;\n",
              "      cursor: pointer;\n",
              "      display: none;\n",
              "      fill: #1967D2;\n",
              "      height: 32px;\n",
              "      padding: 0 0 0 0;\n",
              "      width: 32px;\n",
              "    }\n",
              "\n",
              "    .colab-df-convert:hover {\n",
              "      background-color: #E2EBFA;\n",
              "      box-shadow: 0px 1px 2px rgba(60, 64, 67, 0.3), 0px 1px 3px 1px rgba(60, 64, 67, 0.15);\n",
              "      fill: #174EA6;\n",
              "    }\n",
              "\n",
              "    [theme=dark] .colab-df-convert {\n",
              "      background-color: #3B4455;\n",
              "      fill: #D2E3FC;\n",
              "    }\n",
              "\n",
              "    [theme=dark] .colab-df-convert:hover {\n",
              "      background-color: #434B5C;\n",
              "      box-shadow: 0px 1px 3px 1px rgba(0, 0, 0, 0.15);\n",
              "      filter: drop-shadow(0px 1px 2px rgba(0, 0, 0, 0.3));\n",
              "      fill: #FFFFFF;\n",
              "    }\n",
              "  </style>\n",
              "\n",
              "      <script>\n",
              "        const buttonEl =\n",
              "          document.querySelector('#df-41313180-6551-4b1f-b5b0-6745c67c4ea8 button.colab-df-convert');\n",
              "        buttonEl.style.display =\n",
              "          google.colab.kernel.accessAllowed ? 'block' : 'none';\n",
              "\n",
              "        async function convertToInteractive(key) {\n",
              "          const element = document.querySelector('#df-41313180-6551-4b1f-b5b0-6745c67c4ea8');\n",
              "          const dataTable =\n",
              "            await google.colab.kernel.invokeFunction('convertToInteractive',\n",
              "                                                     [key], {});\n",
              "          if (!dataTable) return;\n",
              "\n",
              "          const docLinkHtml = 'Like what you see? Visit the ' +\n",
              "            '<a target=\"_blank\" href=https://colab.research.google.com/notebooks/data_table.ipynb>data table notebook</a>'\n",
              "            + ' to learn more about interactive tables.';\n",
              "          element.innerHTML = '';\n",
              "          dataTable['output_type'] = 'display_data';\n",
              "          await google.colab.output.renderOutput(dataTable, element);\n",
              "          const docLink = document.createElement('div');\n",
              "          docLink.innerHTML = docLinkHtml;\n",
              "          element.appendChild(docLink);\n",
              "        }\n",
              "      </script>\n",
              "    </div>\n",
              "  </div>\n",
              "  "
            ]
          },
          "metadata": {},
          "execution_count": 23
        }
      ]
    },
    {
      "cell_type": "code",
      "metadata": {
        "id": "VZbYz9DTaVNZ",
        "colab": {
          "base_uri": "https://localhost:8080/",
          "height": 488
        },
        "outputId": "2c4ea1ad-dfc8-4896-a389-0c30d089a37e"
      },
      "source": [
        "test_labels"
      ],
      "execution_count": 24,
      "outputs": [
        {
          "output_type": "execute_result",
          "data": {
            "text/plain": [
              "      RINA_Keel_Plate_Weight  RINA_Bottom_Plate_Weight  \\\n",
              "1897                5.731150                 51.164448   \n",
              "340                 6.186392                 59.615571   \n",
              "4148                5.188047                 41.926885   \n",
              "2488                5.981491                 55.731887   \n",
              "4457                4.940056                 38.014437   \n",
              "...                      ...                       ...   \n",
              "1979                5.145938                 41.249045   \n",
              "3269                6.329677                 62.409083   \n",
              "4704                6.316006                 62.139794   \n",
              "4149                5.339544                 44.411259   \n",
              "2260                6.457386                 64.952861   \n",
              "\n",
              "      RINA_Inner_Bottom_Plate_Weight  RINA_Side_Shell_Plate_Weight  \\\n",
              "1897                       84.375607                     24.984837   \n",
              "340                        98.312405                     29.111724   \n",
              "4148                       69.141885                     20.473912   \n",
              "2488                       91.907798                     27.215228   \n",
              "4457                       62.689843                     18.563369   \n",
              "...                              ...                           ...   \n",
              "1979                       68.024055                     20.142906   \n",
              "3269                      102.919204                     30.475864   \n",
              "4704                      102.475119                     30.344364   \n",
              "4149                       73.238882                     21.687092   \n",
              "2260                      107.114165                     31.718052   \n",
              "\n",
              "      RINA_Bulkhead_Weight  RINA_Main_Deck_Weight  BV_Keel_Plate_Weight  \\\n",
              "1897              5.561275              49.196584              5.731150   \n",
              "340               6.479862              57.322664              6.186392   \n",
              "4148              4.557206              40.314313              5.188047   \n",
              "2488              6.057729              53.588353              5.981491   \n",
              "4457              4.131946              36.552344              4.940056   \n",
              "...                    ...                    ...                   ...   \n",
              "1979              4.483529              39.662543              5.145938   \n",
              "3269              6.783501              60.008734              6.329677   \n",
              "4704              6.754230              59.749802              6.316006   \n",
              "4149              4.827243              42.703134              5.339544   \n",
              "2260              7.059994              62.454674              6.457386   \n",
              "\n",
              "      BV_Bottom_Plate_Weight  BV_Inner_Bottom_Plate_Weight  \\\n",
              "1897               51.164448                     84.375607   \n",
              "340                59.615571                     98.312405   \n",
              "4148               41.926885                     69.141885   \n",
              "2488               55.731887                     91.907798   \n",
              "4457               38.014437                     62.689843   \n",
              "...                      ...                           ...   \n",
              "1979               41.249045                     68.024055   \n",
              "3269               62.409083                    102.919204   \n",
              "4704               62.139794                    102.475119   \n",
              "4149               44.411259                     73.238882   \n",
              "2260               64.952861                    107.114165   \n",
              "\n",
              "      BV_Side_Shell_Plate_Weight  ...  KR_Inner_Bottom_Plate_Weight  \\\n",
              "1897                   24.984837  ...                     75.000539   \n",
              "340                    29.111724  ...                     87.388805   \n",
              "4148                   20.473912  ...                     61.459453   \n",
              "2488                   27.215228  ...                     81.695821   \n",
              "4457                   18.563369  ...                     55.724305   \n",
              "...                          ...  ...                           ...   \n",
              "1979                   20.142906  ...                     60.465827   \n",
              "3269                   30.475864  ...                     91.483737   \n",
              "4704                   30.344364  ...                     91.088994   \n",
              "4149                   21.687092  ...                     65.101229   \n",
              "2260                   31.718052  ...                     95.212591   \n",
              "\n",
              "      KR_Side_Shell_Plate_Weight  KR_Bulkhead_Weight  KR_Main_Deck_Weight  \\\n",
              "1897                   24.984837            6.488154            43.047011   \n",
              "340                    29.111724            7.559839            50.157331   \n",
              "4148                   20.473912            5.316740            35.275023   \n",
              "2488                   27.215228            7.067350            46.889809   \n",
              "4457                   18.563369            4.820604            31.983301   \n",
              "...                          ...                 ...                  ...   \n",
              "1979                   20.142906            5.230784            34.704725   \n",
              "3269                   30.475864            7.914084            52.507642   \n",
              "4704                   30.344364            7.879936            52.281077   \n",
              "4149                   21.687092            5.631783            37.365242   \n",
              "2260                   31.718052            8.236660            54.647840   \n",
              "\n",
              "      LR_Keel_Plate_Weight  LR_Bottom_Plate_Weight  \\\n",
              "1897              5.731150               57.560004   \n",
              "340               6.186392               67.067517   \n",
              "4148              5.188047               47.167746   \n",
              "2488              5.981491               62.698373   \n",
              "4457              4.940056               42.766242   \n",
              "...                    ...                     ...   \n",
              "1979              5.145938               46.405176   \n",
              "3269              6.329677               70.210218   \n",
              "4704              6.316006               69.907269   \n",
              "4149              5.339544               49.962667   \n",
              "2260              6.457386               73.071969   \n",
              "\n",
              "      LR_Inner_Bottom_Plate_Weight  LR_Side_Shell_Plate_Weight  \\\n",
              "1897                     84.375607                   22.208744   \n",
              "340                      98.312405                   25.877088   \n",
              "4148                     69.141885                   18.199033   \n",
              "2488                     91.907798                   24.191313   \n",
              "4457                     62.689843                   16.500772   \n",
              "...                            ...                         ...   \n",
              "1979                     68.024055                   17.904805   \n",
              "3269                    102.919204                   27.089657   \n",
              "4704                    102.475119                   26.972768   \n",
              "4149                     73.238882                   19.277415   \n",
              "2260                    107.114165                   28.193824   \n",
              "\n",
              "      LR_Bulkhead_Weight  LR_Main_Deck_Weight  \n",
              "1897            6.488154            49.196584  \n",
              "340             7.559839            57.322664  \n",
              "4148            5.316740            40.314313  \n",
              "2488            7.067350            53.588353  \n",
              "4457            4.820604            36.552344  \n",
              "...                  ...                  ...  \n",
              "1979            5.230784            39.662543  \n",
              "3269            7.914084            60.008734  \n",
              "4704            7.879936            59.749802  \n",
              "4149            5.631783            42.703134  \n",
              "2260            8.236660            62.454674  \n",
              "\n",
              "[500 rows x 42 columns]"
            ],
            "text/html": [
              "\n",
              "  <div id=\"df-87e6177e-17a1-45eb-9854-cbcecb0708e7\">\n",
              "    <div class=\"colab-df-container\">\n",
              "      <div>\n",
              "<style scoped>\n",
              "    .dataframe tbody tr th:only-of-type {\n",
              "        vertical-align: middle;\n",
              "    }\n",
              "\n",
              "    .dataframe tbody tr th {\n",
              "        vertical-align: top;\n",
              "    }\n",
              "\n",
              "    .dataframe thead th {\n",
              "        text-align: right;\n",
              "    }\n",
              "</style>\n",
              "<table border=\"1\" class=\"dataframe\">\n",
              "  <thead>\n",
              "    <tr style=\"text-align: right;\">\n",
              "      <th></th>\n",
              "      <th>RINA_Keel_Plate_Weight</th>\n",
              "      <th>RINA_Bottom_Plate_Weight</th>\n",
              "      <th>RINA_Inner_Bottom_Plate_Weight</th>\n",
              "      <th>RINA_Side_Shell_Plate_Weight</th>\n",
              "      <th>RINA_Bulkhead_Weight</th>\n",
              "      <th>RINA_Main_Deck_Weight</th>\n",
              "      <th>BV_Keel_Plate_Weight</th>\n",
              "      <th>BV_Bottom_Plate_Weight</th>\n",
              "      <th>BV_Inner_Bottom_Plate_Weight</th>\n",
              "      <th>BV_Side_Shell_Plate_Weight</th>\n",
              "      <th>...</th>\n",
              "      <th>KR_Inner_Bottom_Plate_Weight</th>\n",
              "      <th>KR_Side_Shell_Plate_Weight</th>\n",
              "      <th>KR_Bulkhead_Weight</th>\n",
              "      <th>KR_Main_Deck_Weight</th>\n",
              "      <th>LR_Keel_Plate_Weight</th>\n",
              "      <th>LR_Bottom_Plate_Weight</th>\n",
              "      <th>LR_Inner_Bottom_Plate_Weight</th>\n",
              "      <th>LR_Side_Shell_Plate_Weight</th>\n",
              "      <th>LR_Bulkhead_Weight</th>\n",
              "      <th>LR_Main_Deck_Weight</th>\n",
              "    </tr>\n",
              "  </thead>\n",
              "  <tbody>\n",
              "    <tr>\n",
              "      <th>1897</th>\n",
              "      <td>5.731150</td>\n",
              "      <td>51.164448</td>\n",
              "      <td>84.375607</td>\n",
              "      <td>24.984837</td>\n",
              "      <td>5.561275</td>\n",
              "      <td>49.196584</td>\n",
              "      <td>5.731150</td>\n",
              "      <td>51.164448</td>\n",
              "      <td>84.375607</td>\n",
              "      <td>24.984837</td>\n",
              "      <td>...</td>\n",
              "      <td>75.000539</td>\n",
              "      <td>24.984837</td>\n",
              "      <td>6.488154</td>\n",
              "      <td>43.047011</td>\n",
              "      <td>5.731150</td>\n",
              "      <td>57.560004</td>\n",
              "      <td>84.375607</td>\n",
              "      <td>22.208744</td>\n",
              "      <td>6.488154</td>\n",
              "      <td>49.196584</td>\n",
              "    </tr>\n",
              "    <tr>\n",
              "      <th>340</th>\n",
              "      <td>6.186392</td>\n",
              "      <td>59.615571</td>\n",
              "      <td>98.312405</td>\n",
              "      <td>29.111724</td>\n",
              "      <td>6.479862</td>\n",
              "      <td>57.322664</td>\n",
              "      <td>6.186392</td>\n",
              "      <td>59.615571</td>\n",
              "      <td>98.312405</td>\n",
              "      <td>29.111724</td>\n",
              "      <td>...</td>\n",
              "      <td>87.388805</td>\n",
              "      <td>29.111724</td>\n",
              "      <td>7.559839</td>\n",
              "      <td>50.157331</td>\n",
              "      <td>6.186392</td>\n",
              "      <td>67.067517</td>\n",
              "      <td>98.312405</td>\n",
              "      <td>25.877088</td>\n",
              "      <td>7.559839</td>\n",
              "      <td>57.322664</td>\n",
              "    </tr>\n",
              "    <tr>\n",
              "      <th>4148</th>\n",
              "      <td>5.188047</td>\n",
              "      <td>41.926885</td>\n",
              "      <td>69.141885</td>\n",
              "      <td>20.473912</td>\n",
              "      <td>4.557206</td>\n",
              "      <td>40.314313</td>\n",
              "      <td>5.188047</td>\n",
              "      <td>41.926885</td>\n",
              "      <td>69.141885</td>\n",
              "      <td>20.473912</td>\n",
              "      <td>...</td>\n",
              "      <td>61.459453</td>\n",
              "      <td>20.473912</td>\n",
              "      <td>5.316740</td>\n",
              "      <td>35.275023</td>\n",
              "      <td>5.188047</td>\n",
              "      <td>47.167746</td>\n",
              "      <td>69.141885</td>\n",
              "      <td>18.199033</td>\n",
              "      <td>5.316740</td>\n",
              "      <td>40.314313</td>\n",
              "    </tr>\n",
              "    <tr>\n",
              "      <th>2488</th>\n",
              "      <td>5.981491</td>\n",
              "      <td>55.731887</td>\n",
              "      <td>91.907798</td>\n",
              "      <td>27.215228</td>\n",
              "      <td>6.057729</td>\n",
              "      <td>53.588353</td>\n",
              "      <td>5.981491</td>\n",
              "      <td>55.731887</td>\n",
              "      <td>91.907798</td>\n",
              "      <td>27.215228</td>\n",
              "      <td>...</td>\n",
              "      <td>81.695821</td>\n",
              "      <td>27.215228</td>\n",
              "      <td>7.067350</td>\n",
              "      <td>46.889809</td>\n",
              "      <td>5.981491</td>\n",
              "      <td>62.698373</td>\n",
              "      <td>91.907798</td>\n",
              "      <td>24.191313</td>\n",
              "      <td>7.067350</td>\n",
              "      <td>53.588353</td>\n",
              "    </tr>\n",
              "    <tr>\n",
              "      <th>4457</th>\n",
              "      <td>4.940056</td>\n",
              "      <td>38.014437</td>\n",
              "      <td>62.689843</td>\n",
              "      <td>18.563369</td>\n",
              "      <td>4.131946</td>\n",
              "      <td>36.552344</td>\n",
              "      <td>4.940056</td>\n",
              "      <td>38.014437</td>\n",
              "      <td>62.689843</td>\n",
              "      <td>18.563369</td>\n",
              "      <td>...</td>\n",
              "      <td>55.724305</td>\n",
              "      <td>18.563369</td>\n",
              "      <td>4.820604</td>\n",
              "      <td>31.983301</td>\n",
              "      <td>4.940056</td>\n",
              "      <td>42.766242</td>\n",
              "      <td>62.689843</td>\n",
              "      <td>16.500772</td>\n",
              "      <td>4.820604</td>\n",
              "      <td>36.552344</td>\n",
              "    </tr>\n",
              "    <tr>\n",
              "      <th>...</th>\n",
              "      <td>...</td>\n",
              "      <td>...</td>\n",
              "      <td>...</td>\n",
              "      <td>...</td>\n",
              "      <td>...</td>\n",
              "      <td>...</td>\n",
              "      <td>...</td>\n",
              "      <td>...</td>\n",
              "      <td>...</td>\n",
              "      <td>...</td>\n",
              "      <td>...</td>\n",
              "      <td>...</td>\n",
              "      <td>...</td>\n",
              "      <td>...</td>\n",
              "      <td>...</td>\n",
              "      <td>...</td>\n",
              "      <td>...</td>\n",
              "      <td>...</td>\n",
              "      <td>...</td>\n",
              "      <td>...</td>\n",
              "      <td>...</td>\n",
              "    </tr>\n",
              "    <tr>\n",
              "      <th>1979</th>\n",
              "      <td>5.145938</td>\n",
              "      <td>41.249045</td>\n",
              "      <td>68.024055</td>\n",
              "      <td>20.142906</td>\n",
              "      <td>4.483529</td>\n",
              "      <td>39.662543</td>\n",
              "      <td>5.145938</td>\n",
              "      <td>41.249045</td>\n",
              "      <td>68.024055</td>\n",
              "      <td>20.142906</td>\n",
              "      <td>...</td>\n",
              "      <td>60.465827</td>\n",
              "      <td>20.142906</td>\n",
              "      <td>5.230784</td>\n",
              "      <td>34.704725</td>\n",
              "      <td>5.145938</td>\n",
              "      <td>46.405176</td>\n",
              "      <td>68.024055</td>\n",
              "      <td>17.904805</td>\n",
              "      <td>5.230784</td>\n",
              "      <td>39.662543</td>\n",
              "    </tr>\n",
              "    <tr>\n",
              "      <th>3269</th>\n",
              "      <td>6.329677</td>\n",
              "      <td>62.409083</td>\n",
              "      <td>102.919204</td>\n",
              "      <td>30.475864</td>\n",
              "      <td>6.783501</td>\n",
              "      <td>60.008734</td>\n",
              "      <td>6.329677</td>\n",
              "      <td>62.409083</td>\n",
              "      <td>102.919204</td>\n",
              "      <td>30.475864</td>\n",
              "      <td>...</td>\n",
              "      <td>91.483737</td>\n",
              "      <td>30.475864</td>\n",
              "      <td>7.914084</td>\n",
              "      <td>52.507642</td>\n",
              "      <td>6.329677</td>\n",
              "      <td>70.210218</td>\n",
              "      <td>102.919204</td>\n",
              "      <td>27.089657</td>\n",
              "      <td>7.914084</td>\n",
              "      <td>60.008734</td>\n",
              "    </tr>\n",
              "    <tr>\n",
              "      <th>4704</th>\n",
              "      <td>6.316006</td>\n",
              "      <td>62.139794</td>\n",
              "      <td>102.475119</td>\n",
              "      <td>30.344364</td>\n",
              "      <td>6.754230</td>\n",
              "      <td>59.749802</td>\n",
              "      <td>6.316006</td>\n",
              "      <td>62.139794</td>\n",
              "      <td>102.475119</td>\n",
              "      <td>30.344364</td>\n",
              "      <td>...</td>\n",
              "      <td>91.088994</td>\n",
              "      <td>30.344364</td>\n",
              "      <td>7.879936</td>\n",
              "      <td>52.281077</td>\n",
              "      <td>6.316006</td>\n",
              "      <td>69.907269</td>\n",
              "      <td>102.475119</td>\n",
              "      <td>26.972768</td>\n",
              "      <td>7.879936</td>\n",
              "      <td>59.749802</td>\n",
              "    </tr>\n",
              "    <tr>\n",
              "      <th>4149</th>\n",
              "      <td>5.339544</td>\n",
              "      <td>44.411259</td>\n",
              "      <td>73.238882</td>\n",
              "      <td>21.687092</td>\n",
              "      <td>4.827243</td>\n",
              "      <td>42.703134</td>\n",
              "      <td>5.339544</td>\n",
              "      <td>44.411259</td>\n",
              "      <td>73.238882</td>\n",
              "      <td>21.687092</td>\n",
              "      <td>...</td>\n",
              "      <td>65.101229</td>\n",
              "      <td>21.687092</td>\n",
              "      <td>5.631783</td>\n",
              "      <td>37.365242</td>\n",
              "      <td>5.339544</td>\n",
              "      <td>49.962667</td>\n",
              "      <td>73.238882</td>\n",
              "      <td>19.277415</td>\n",
              "      <td>5.631783</td>\n",
              "      <td>42.703134</td>\n",
              "    </tr>\n",
              "    <tr>\n",
              "      <th>2260</th>\n",
              "      <td>6.457386</td>\n",
              "      <td>64.952861</td>\n",
              "      <td>107.114165</td>\n",
              "      <td>31.718052</td>\n",
              "      <td>7.059994</td>\n",
              "      <td>62.454674</td>\n",
              "      <td>6.457386</td>\n",
              "      <td>64.952861</td>\n",
              "      <td>107.114165</td>\n",
              "      <td>31.718052</td>\n",
              "      <td>...</td>\n",
              "      <td>95.212591</td>\n",
              "      <td>31.718052</td>\n",
              "      <td>8.236660</td>\n",
              "      <td>54.647840</td>\n",
              "      <td>6.457386</td>\n",
              "      <td>73.071969</td>\n",
              "      <td>107.114165</td>\n",
              "      <td>28.193824</td>\n",
              "      <td>8.236660</td>\n",
              "      <td>62.454674</td>\n",
              "    </tr>\n",
              "  </tbody>\n",
              "</table>\n",
              "<p>500 rows × 42 columns</p>\n",
              "</div>\n",
              "      <button class=\"colab-df-convert\" onclick=\"convertToInteractive('df-87e6177e-17a1-45eb-9854-cbcecb0708e7')\"\n",
              "              title=\"Convert this dataframe to an interactive table.\"\n",
              "              style=\"display:none;\">\n",
              "        \n",
              "  <svg xmlns=\"http://www.w3.org/2000/svg\" height=\"24px\"viewBox=\"0 0 24 24\"\n",
              "       width=\"24px\">\n",
              "    <path d=\"M0 0h24v24H0V0z\" fill=\"none\"/>\n",
              "    <path d=\"M18.56 5.44l.94 2.06.94-2.06 2.06-.94-2.06-.94-.94-2.06-.94 2.06-2.06.94zm-11 1L8.5 8.5l.94-2.06 2.06-.94-2.06-.94L8.5 2.5l-.94 2.06-2.06.94zm10 10l.94 2.06.94-2.06 2.06-.94-2.06-.94-.94-2.06-.94 2.06-2.06.94z\"/><path d=\"M17.41 7.96l-1.37-1.37c-.4-.4-.92-.59-1.43-.59-.52 0-1.04.2-1.43.59L10.3 9.45l-7.72 7.72c-.78.78-.78 2.05 0 2.83L4 21.41c.39.39.9.59 1.41.59.51 0 1.02-.2 1.41-.59l7.78-7.78 2.81-2.81c.8-.78.8-2.07 0-2.86zM5.41 20L4 18.59l7.72-7.72 1.47 1.35L5.41 20z\"/>\n",
              "  </svg>\n",
              "      </button>\n",
              "      \n",
              "  <style>\n",
              "    .colab-df-container {\n",
              "      display:flex;\n",
              "      flex-wrap:wrap;\n",
              "      gap: 12px;\n",
              "    }\n",
              "\n",
              "    .colab-df-convert {\n",
              "      background-color: #E8F0FE;\n",
              "      border: none;\n",
              "      border-radius: 50%;\n",
              "      cursor: pointer;\n",
              "      display: none;\n",
              "      fill: #1967D2;\n",
              "      height: 32px;\n",
              "      padding: 0 0 0 0;\n",
              "      width: 32px;\n",
              "    }\n",
              "\n",
              "    .colab-df-convert:hover {\n",
              "      background-color: #E2EBFA;\n",
              "      box-shadow: 0px 1px 2px rgba(60, 64, 67, 0.3), 0px 1px 3px 1px rgba(60, 64, 67, 0.15);\n",
              "      fill: #174EA6;\n",
              "    }\n",
              "\n",
              "    [theme=dark] .colab-df-convert {\n",
              "      background-color: #3B4455;\n",
              "      fill: #D2E3FC;\n",
              "    }\n",
              "\n",
              "    [theme=dark] .colab-df-convert:hover {\n",
              "      background-color: #434B5C;\n",
              "      box-shadow: 0px 1px 3px 1px rgba(0, 0, 0, 0.15);\n",
              "      filter: drop-shadow(0px 1px 2px rgba(0, 0, 0, 0.3));\n",
              "      fill: #FFFFFF;\n",
              "    }\n",
              "  </style>\n",
              "\n",
              "      <script>\n",
              "        const buttonEl =\n",
              "          document.querySelector('#df-87e6177e-17a1-45eb-9854-cbcecb0708e7 button.colab-df-convert');\n",
              "        buttonEl.style.display =\n",
              "          google.colab.kernel.accessAllowed ? 'block' : 'none';\n",
              "\n",
              "        async function convertToInteractive(key) {\n",
              "          const element = document.querySelector('#df-87e6177e-17a1-45eb-9854-cbcecb0708e7');\n",
              "          const dataTable =\n",
              "            await google.colab.kernel.invokeFunction('convertToInteractive',\n",
              "                                                     [key], {});\n",
              "          if (!dataTable) return;\n",
              "\n",
              "          const docLinkHtml = 'Like what you see? Visit the ' +\n",
              "            '<a target=\"_blank\" href=https://colab.research.google.com/notebooks/data_table.ipynb>data table notebook</a>'\n",
              "            + ' to learn more about interactive tables.';\n",
              "          element.innerHTML = '';\n",
              "          dataTable['output_type'] = 'display_data';\n",
              "          await google.colab.output.renderOutput(dataTable, element);\n",
              "          const docLink = document.createElement('div');\n",
              "          docLink.innerHTML = docLinkHtml;\n",
              "          element.appendChild(docLink);\n",
              "        }\n",
              "      </script>\n",
              "    </div>\n",
              "  </div>\n",
              "  "
            ]
          },
          "metadata": {},
          "execution_count": 24
        }
      ]
    },
    {
      "cell_type": "code",
      "metadata": {
        "id": "t2sluJdCW7jN"
      },
      "source": [
        "# Cl_train_features = Cl_train_dataset.copy()\n",
        "# Cl_test_features = Cl_test_dataset.copy()\n",
        "\n",
        "# Cl_train_labels = Cl_train_features.pop('CL')\n",
        "# Cl_test_labels = Cl_test_features.pop('CL')"
      ],
      "execution_count": 25,
      "outputs": []
    },
    {
      "cell_type": "markdown",
      "metadata": {
        "id": "unTwtjbL9mVE"
      },
      "source": [
        "#**Normalization**"
      ]
    },
    {
      "cell_type": "code",
      "metadata": {
        "id": "JlC5ooJrgjQF"
      },
      "source": [
        "normalizer = preprocessing.Normalization(axis=-1)\n",
        "#normalizer.adapt(np.array(Cl_train_features))\n",
        "normalizer.adapt(np.array(train_features))"
      ],
      "execution_count": 26,
      "outputs": []
    },
    {
      "cell_type": "markdown",
      "metadata": {
        "id": "8GhuHSE4MMwq"
      },
      "source": []
    },
    {
      "cell_type": "code",
      "metadata": {
        "id": "t4Xd82bGZiz_"
      },
      "source": [
        "from keras import backend as K\n",
        "\n",
        "def root_mean_squared_error(y_true, y_pred):\n",
        "        return K.sqrt(K.mean(K.square(y_pred - y_true))) "
      ],
      "execution_count": 27,
      "outputs": []
    },
    {
      "cell_type": "markdown",
      "metadata": {
        "id": "wxODwOZeMFDN"
      },
      "source": [
        " # **Linear Model**"
      ]
    },
    {
      "cell_type": "code",
      "metadata": {
        "id": "_FJgdZ90MS2A"
      },
      "source": [
        "# linear_model = tf.keras.Sequential([\n",
        "#     normalizer,\n",
        "#     layers.Dense(units=1)\n",
        "# ])"
      ],
      "execution_count": null,
      "outputs": []
    },
    {
      "cell_type": "code",
      "metadata": {
        "id": "Hjh57XWYMixq"
      },
      "source": [
        "# # linear_model.compile(\n",
        "# #     optimizer=tf.optimizers.Adam(learning_rate=0.11),\n",
        "# #     loss='mean_squared_error')\n",
        "\n",
        "# linear_model.compile(optimizer = \"rmsprop\", loss = root_mean_squared_error)\n",
        "#               #metrics=[tf.keras.metrics.MeanSquaredError()])"
      ],
      "execution_count": null,
      "outputs": []
    },
    {
      "cell_type": "code",
      "metadata": {
        "id": "QvAbA_e3JvzS"
      },
      "source": [],
      "execution_count": null,
      "outputs": []
    },
    {
      "cell_type": "code",
      "metadata": {
        "id": "2KunRnpfJtir"
      },
      "source": [],
      "execution_count": null,
      "outputs": []
    },
    {
      "cell_type": "code",
      "metadata": {
        "id": "r6LXnhHBMoEs"
      },
      "source": [
        "# %%time\n",
        "# history = linear_model.fit(\n",
        "#     train_features, train_labels, \n",
        "#     epochs=300,\n",
        "#     # suppress logging\n",
        "#     verbose=1,\n",
        "#     callbacks=[PlotLossesKeras()],\n",
        "#     # Calculate validation results on 20% of the training data\n",
        "#     validation_split = 0.2)"
      ],
      "execution_count": null,
      "outputs": []
    },
    {
      "cell_type": "code",
      "metadata": {
        "id": "yjP8LVPmNE-c"
      },
      "source": [
        "# def plot_loss(history):\n",
        "#   plt.plot(history.history['loss'], label='loss')\n",
        "#   plt.plot(history.history['val_loss'], label='val_loss')\n",
        "#   plt.ylim([0, 0.9])\n",
        "#   plt.xlabel('Epoch')\n",
        "#   plt.ylabel('Error')\n",
        "#   plt.legend()\n",
        "#   plt.grid(True)"
      ],
      "execution_count": null,
      "outputs": []
    },
    {
      "cell_type": "code",
      "metadata": {
        "id": "-SDa7R57N7_s"
      },
      "source": [
        "# loss_df = pd.DataFrame(history.history[\"loss\"])\n",
        "# loss_df.columns =['Linear']\n",
        "# loss_df.to_excel('Linear.xls')"
      ],
      "execution_count": null,
      "outputs": []
    },
    {
      "cell_type": "code",
      "metadata": {
        "id": "9PX4TRYGOGee"
      },
      "source": [
        "# val_loss_df = pd.DataFrame(history.history[\"val_loss\"])\n",
        "# val_loss_df.columns =['Linear']\n",
        "# val_loss_df.to_excel('val_Linear.xls')"
      ],
      "execution_count": null,
      "outputs": []
    },
    {
      "cell_type": "code",
      "metadata": {
        "id": "EPg_tevuMxtL"
      },
      "source": [
        "# plot_loss(history)"
      ],
      "execution_count": null,
      "outputs": []
    },
    {
      "cell_type": "code",
      "metadata": {
        "id": "JRu48iFtNZYS"
      },
      "source": [
        "test_results = {}\n",
        "\n",
        "# test_results['linear_model'] = linear_model.evaluate(\n",
        "#     test_features, test_labels, verbose=1)"
      ],
      "execution_count": null,
      "outputs": []
    },
    {
      "cell_type": "code",
      "metadata": {
        "id": "gZKJCeiUNm0F"
      },
      "source": [
        "# pd.DataFrame(test_results, index=['RMSE']).T"
      ],
      "execution_count": null,
      "outputs": []
    },
    {
      "cell_type": "markdown",
      "metadata": {
        "id": "y4ZgeZRd9-tT"
      },
      "source": [
        "#**Model 1**"
      ]
    },
    {
      "cell_type": "code",
      "metadata": {
        "id": "BrNglwggSh5H"
      },
      "source": [
        "def model_1(norm):\n",
        "  model = keras.Sequential([\n",
        "      norm,\n",
        "      layers.Dense(8, activation='relu'),\n",
        "\n",
        "      layers.Dense(8, activation='relu'),\n",
        "\n",
        "      #layers.Dense(32, activation='relu'),\n",
        "\n",
        "      #layers.Dense(32, activation='relu'),\n",
        "      #layers.Dense(80, activation='relu'),\n",
        "      #layers.Dense(80, activation='relu'),\n",
        " \n",
        "      layers.Dense(42)])\n",
        "\n",
        "  # model.compile(loss='mean_squared_error',\n",
        "  #               optimizer=tf.keras.optimizers.Adam(0.001))\n",
        "  \n",
        "  model.compile(optimizer = \"rmsprop\", loss = root_mean_squared_error)\n",
        "  return model"
      ],
      "execution_count": 28,
      "outputs": []
    },
    {
      "cell_type": "code",
      "metadata": {
        "id": "c0mhscXh2k36",
        "colab": {
          "base_uri": "https://localhost:8080/"
        },
        "outputId": "bdbf7e9c-7b02-4609-d42b-17b2bfe5ca42"
      },
      "source": [
        "#dnn_model = build_and_compile_model(normalizer)\n",
        "\n",
        "dnn_model_1 = model_1(normalizer)\n",
        "dnn_model_1.summary()"
      ],
      "execution_count": 29,
      "outputs": [
        {
          "output_type": "stream",
          "name": "stdout",
          "text": [
            "Model: \"sequential\"\n",
            "_________________________________________________________________\n",
            " Layer (type)                Output Shape              Param #   \n",
            "=================================================================\n",
            " normalization (Normalizatio  (None, 3)                7         \n",
            " n)                                                              \n",
            "                                                                 \n",
            " dense (Dense)               (None, 8)                 32        \n",
            "                                                                 \n",
            " dense_1 (Dense)             (None, 8)                 72        \n",
            "                                                                 \n",
            " dense_2 (Dense)             (None, 42)                378       \n",
            "                                                                 \n",
            "=================================================================\n",
            "Total params: 489\n",
            "Trainable params: 482\n",
            "Non-trainable params: 7\n",
            "_________________________________________________________________\n"
          ]
        }
      ]
    },
    {
      "cell_type": "code",
      "metadata": {
        "id": "CXDENACl2tuW",
        "colab": {
          "base_uri": "https://localhost:8080/",
          "height": 689
        },
        "outputId": "48920292-02dd-462c-b63e-339c55ca6cba"
      },
      "source": [
        "%%time\n",
        "history = dnn_model_1.fit(\n",
        "    train_features, train_labels,\n",
        "    validation_split=0.1,\n",
        "    callbacks=[PlotLossesKeras()],\n",
        "    verbose=1, epochs=400, batch_size = 32)"
      ],
      "execution_count": 30,
      "outputs": [
        {
          "output_type": "display_data",
          "data": {
            "text/plain": [
              "<Figure size 864x576 with 2 Axes>"
            ],
            "image/png": "[encoded data removed]"
          },
          "metadata": {
            "needs_background": "light"
          }
        },
        {
          "output_type": "stream",
          "name": "stdout",
          "text": [
            "Loss\n",
            "\ttraining         \t (min:    0.108, max:   49.250, cur:    0.112)\n",
            "\tvalidation       \t (min:    0.083, max:   48.560, cur:    0.134)\n",
            "\b\b\b\b\b\b\b\b\b\b\b\b\b\b\b\b\b\b\b\b\b\b\b\b\b\b\b\b\b\b\b\b\b\b\b\b\b\b\b\b\b\b\b\b\b\b\b\b\b\b\b\b\b\b\b\b\b\b\b\b\b\b\b\b\b\r127/127 [==============================] - 1s 5ms/step - loss: 0.1121 - val_loss: 0.1339\n",
            "CPU times: user 4min 2s, sys: 49.7 s, total: 4min 52s\n",
            "Wall time: 4min 22s\n"
          ]
        }
      ]
    },
    {
      "cell_type": "code",
      "metadata": {
        "id": "Q0y85uvwJpOT"
      },
      "source": [
        "def plot_loss(history):\n",
        "  plt.plot(history.history['loss'], label='loss')\n",
        "  plt.plot(history.history['val_loss'], label='val_loss')\n",
        "  plt.ylim([0, 2])\n",
        "  plt.xlabel('Epoch')\n",
        "  plt.ylabel('Error')\n",
        "  plt.legend()\n",
        "  plt.grid(True)"
      ],
      "execution_count": 31,
      "outputs": []
    },
    {
      "cell_type": "code",
      "metadata": {
        "id": "yLl3kGqdT-bv"
      },
      "source": [
        "\n",
        "loss_df = pd.DataFrame(history.history[\"loss\"])\n",
        "loss_df.columns =['Model 1']\n",
        "loss_df.to_excel('Model_1.xlsx')"
      ],
      "execution_count": null,
      "outputs": []
    },
    {
      "cell_type": "code",
      "metadata": {
        "id": "BfLOaxzds3T7"
      },
      "source": [
        "val_loss_df = pd.DataFrame(history.history[\"val_loss\"])\n",
        "val_loss_df.columns =['Model 1']\n",
        "val_loss_df.to_excel('val_Model_1.xlsx')"
      ],
      "execution_count": null,
      "outputs": []
    },
    {
      "cell_type": "code",
      "metadata": {
        "id": "-9Dbj0fX23RQ",
        "colab": {
          "base_uri": "https://localhost:8080/",
          "height": 283
        },
        "outputId": "28f66663-3991-4924-e1dc-fdd689dfd44c"
      },
      "source": [
        "plot_loss(history)"
      ],
      "execution_count": 32,
      "outputs": [
        {
          "output_type": "display_data",
          "data": {
            "text/plain": [
              "<Figure size 432x288 with 1 Axes>"
            ],
            "image/png": "[encoded data removed]"
          },
          "metadata": {
            "needs_background": "light"
          }
        }
      ]
    },
    {
      "cell_type": "markdown",
      "metadata": {
        "id": "hWoVYS34fJPZ"
      },
      "source": [
        "Collect the results on the test set:"
      ]
    },
    {
      "cell_type": "code",
      "metadata": {
        "id": "Xe7RXH3N3CWU",
        "colab": {
          "base_uri": "https://localhost:8080/",
          "height": 300
        },
        "outputId": "9287cb0b-b0ac-4805-fefd-78be7fb5666f"
      },
      "source": [
        "test_predictions = dnn_model_1.predict(test_features)\n",
        "\n",
        "a = plt.axes(aspect='equal')\n",
        "plt.scatter(test_labels, test_predictions)\n",
        "plt.xlabel('True Values')\n",
        "plt.ylabel('Predictions')\n",
        "lims = [-1, 160]\n",
        "plt.xlim(lims)\n",
        "plt.ylim(lims)\n",
        "_ = plt.plot(lims, lims)\n"
      ],
      "execution_count": 33,
      "outputs": [
        {
          "output_type": "stream",
          "name": "stdout",
          "text": [
            "16/16 [==============================] - 0s 2ms/step\n"
          ]
        },
        {
          "output_type": "display_data",
          "data": {
            "text/plain": [
              "<Figure size 432x288 with 1 Axes>"
            ],
            "image/png": "[encoded data removed]"
          },
          "metadata": {
            "needs_background": "light"
          }
        }
      ]
    },
    {
      "cell_type": "code",
      "source": [
        "test_predictions"
      ],
      "metadata": {
        "id": "FJc5yXLUi_I3",
        "colab": {
          "base_uri": "https://localhost:8080/"
        },
        "outputId": "b56dc280-5013-4cf2-9421-fac8929d4648"
      },
      "execution_count": 34,
      "outputs": [
        {
          "output_type": "execute_result",
          "data": {
            "text/plain": [
              "array([[  5.797,  50.898,  84.024, ...,  22.129,   6.522,  48.957],\n",
              "       [  6.257,  59.553,  98.226, ...,  25.885,   7.634,  57.266],\n",
              "       [  5.239,  41.96 ,  69.191, ...,  18.236,   5.379,  40.345],\n",
              "       ...,\n",
              "       [  6.387,  62.018, 102.269, ...,  26.954,   7.951,  59.632],\n",
              "       [  5.395,  44.418,  73.275, ...,  19.307,   5.693,  42.715],\n",
              "       [  6.53 ,  64.706, 106.68 , ...,  28.121,   8.297,  62.212]],\n",
              "      dtype=float32)"
            ]
          },
          "metadata": {},
          "execution_count": 34
        }
      ]
    },
    {
      "cell_type": "code",
      "metadata": {
        "id": "f-OHX4DiXd8x"
      },
      "source": [
        "# error = test_predictions - test_labels\n",
        "# plt.hist(error, bins=5)\n",
        "# plt.xlabel('Prediction Error')\n",
        "# _ = plt.ylabel('Count')"
      ],
      "execution_count": null,
      "outputs": []
    },
    {
      "cell_type": "code",
      "metadata": {
        "id": "4-WwLlmfT-mb"
      },
      "source": [
        "dnn_model_1.save('dnn_model_1')"
      ],
      "execution_count": 35,
      "outputs": []
    },
    {
      "cell_type": "code",
      "metadata": {
        "id": "dyyyj2zVT-mf",
        "colab": {
          "base_uri": "https://localhost:8080/"
        },
        "outputId": "4c8759d7-4bf3-4550-f761-9420ee7be6ea"
      },
      "source": [
        "#reloaded = tf.keras.models.load_model('dnn_model_1')\n",
        "test_results = {}\n",
        "\n",
        "\n",
        "test_results['Model 1'] = dnn_model_1.evaluate(test_features, test_labels, verbose=1)"
      ],
      "execution_count": 37,
      "outputs": [
        {
          "output_type": "stream",
          "name": "stdout",
          "text": [
            "16/16 [==============================] - 0s 2ms/step - loss: 0.1425\n"
          ]
        }
      ]
    },
    {
      "cell_type": "code",
      "metadata": {
        "id": "f_GchJ2tg-2o",
        "colab": {
          "base_uri": "https://localhost:8080/",
          "height": 81
        },
        "outputId": "a5c76377-9868-4582-894e-cf0de2cb54e5"
      },
      "source": [
        "pd.DataFrame(test_results, index=['RMSE']).T"
      ],
      "execution_count": 38,
      "outputs": [
        {
          "output_type": "execute_result",
          "data": {
            "text/plain": [
              "             RMSE\n",
              "Model 1  0.142485"
            ],
            "text/html": [
              "\n",
              "  <div id=\"df-d287d077-7308-4d84-b734-e53a6c455f06\">\n",
              "    <div class=\"colab-df-container\">\n",
              "      <div>\n",
              "<style scoped>\n",
              "    .dataframe tbody tr th:only-of-type {\n",
              "        vertical-align: middle;\n",
              "    }\n",
              "\n",
              "    .dataframe tbody tr th {\n",
              "        vertical-align: top;\n",
              "    }\n",
              "\n",
              "    .dataframe thead th {\n",
              "        text-align: right;\n",
              "    }\n",
              "</style>\n",
              "<table border=\"1\" class=\"dataframe\">\n",
              "  <thead>\n",
              "    <tr style=\"text-align: right;\">\n",
              "      <th></th>\n",
              "      <th>RMSE</th>\n",
              "    </tr>\n",
              "  </thead>\n",
              "  <tbody>\n",
              "    <tr>\n",
              "      <th>Model 1</th>\n",
              "      <td>0.142485</td>\n",
              "    </tr>\n",
              "  </tbody>\n",
              "</table>\n",
              "</div>\n",
              "      <button class=\"colab-df-convert\" onclick=\"convertToInteractive('df-d287d077-7308-4d84-b734-e53a6c455f06')\"\n",
              "              title=\"Convert this dataframe to an interactive table.\"\n",
              "              style=\"display:none;\">\n",
              "        \n",
              "  <svg xmlns=\"http://www.w3.org/2000/svg\" height=\"24px\"viewBox=\"0 0 24 24\"\n",
              "       width=\"24px\">\n",
              "    <path d=\"M0 0h24v24H0V0z\" fill=\"none\"/>\n",
              "    <path d=\"M18.56 5.44l.94 2.06.94-2.06 2.06-.94-2.06-.94-.94-2.06-.94 2.06-2.06.94zm-11 1L8.5 8.5l.94-2.06 2.06-.94-2.06-.94L8.5 2.5l-.94 2.06-2.06.94zm10 10l.94 2.06.94-2.06 2.06-.94-2.06-.94-.94-2.06-.94 2.06-2.06.94z\"/><path d=\"M17.41 7.96l-1.37-1.37c-.4-.4-.92-.59-1.43-.59-.52 0-1.04.2-1.43.59L10.3 9.45l-7.72 7.72c-.78.78-.78 2.05 0 2.83L4 21.41c.39.39.9.59 1.41.59.51 0 1.02-.2 1.41-.59l7.78-7.78 2.81-2.81c.8-.78.8-2.07 0-2.86zM5.41 20L4 18.59l7.72-7.72 1.47 1.35L5.41 20z\"/>\n",
              "  </svg>\n",
              "      </button>\n",
              "      \n",
              "  <style>\n",
              "    .colab-df-container {\n",
              "      display:flex;\n",
              "      flex-wrap:wrap;\n",
              "      gap: 12px;\n",
              "    }\n",
              "\n",
              "    .colab-df-convert {\n",
              "      background-color: #E8F0FE;\n",
              "      border: none;\n",
              "      border-radius: 50%;\n",
              "      cursor: pointer;\n",
              "      display: none;\n",
              "      fill: #1967D2;\n",
              "      height: 32px;\n",
              "      padding: 0 0 0 0;\n",
              "      width: 32px;\n",
              "    }\n",
              "\n",
              "    .colab-df-convert:hover {\n",
              "      background-color: #E2EBFA;\n",
              "      box-shadow: 0px 1px 2px rgba(60, 64, 67, 0.3), 0px 1px 3px 1px rgba(60, 64, 67, 0.15);\n",
              "      fill: #174EA6;\n",
              "    }\n",
              "\n",
              "    [theme=dark] .colab-df-convert {\n",
              "      background-color: #3B4455;\n",
              "      fill: #D2E3FC;\n",
              "    }\n",
              "\n",
              "    [theme=dark] .colab-df-convert:hover {\n",
              "      background-color: #434B5C;\n",
              "      box-shadow: 0px 1px 3px 1px rgba(0, 0, 0, 0.15);\n",
              "      filter: drop-shadow(0px 1px 2px rgba(0, 0, 0, 0.3));\n",
              "      fill: #FFFFFF;\n",
              "    }\n",
              "  </style>\n",
              "\n",
              "      <script>\n",
              "        const buttonEl =\n",
              "          document.querySelector('#df-d287d077-7308-4d84-b734-e53a6c455f06 button.colab-df-convert');\n",
              "        buttonEl.style.display =\n",
              "          google.colab.kernel.accessAllowed ? 'block' : 'none';\n",
              "\n",
              "        async function convertToInteractive(key) {\n",
              "          const element = document.querySelector('#df-d287d077-7308-4d84-b734-e53a6c455f06');\n",
              "          const dataTable =\n",
              "            await google.colab.kernel.invokeFunction('convertToInteractive',\n",
              "                                                     [key], {});\n",
              "          if (!dataTable) return;\n",
              "\n",
              "          const docLinkHtml = 'Like what you see? Visit the ' +\n",
              "            '<a target=\"_blank\" href=https://colab.research.google.com/notebooks/data_table.ipynb>data table notebook</a>'\n",
              "            + ' to learn more about interactive tables.';\n",
              "          element.innerHTML = '';\n",
              "          dataTable['output_type'] = 'display_data';\n",
              "          await google.colab.output.renderOutput(dataTable, element);\n",
              "          const docLink = document.createElement('div');\n",
              "          docLink.innerHTML = docLinkHtml;\n",
              "          element.appendChild(docLink);\n",
              "        }\n",
              "      </script>\n",
              "    </div>\n",
              "  </div>\n",
              "  "
            ]
          },
          "metadata": {},
          "execution_count": 38
        }
      ]
    },
    {
      "cell_type": "markdown",
      "metadata": {
        "id": "CBSvjsZdOCIM"
      },
      "source": [
        "#**Model 2**"
      ]
    },
    {
      "cell_type": "code",
      "metadata": {
        "id": "b2g4y3jdOHOA"
      },
      "source": [
        "def model_2(norm):\n",
        "  model = keras.Sequential([\n",
        "      norm,\n",
        "      layers.Dense(16, activation='relu'),\n",
        "\n",
        "      layers.Dense(16, activation='relu'),\n",
        "\n",
        "      #layers.Dense(64, activation='relu'),\n",
        "\n",
        "      #layers.Dense(64, activation='relu'),\n",
        "      #layers.Dense(64, activation='relu'),\n",
        "      # layers.Dense(128, activation='relu'),\n",
        "\n",
        "      layers.Dense(42)])\n",
        "\n",
        "  # model.compile(loss='mean_squared_error',\n",
        "  #               optimizer=tf.keras.optimizers.Adam(0.001))\n",
        "  \n",
        "  model.compile(optimizer = \"rmsprop\", loss = root_mean_squared_error)\n",
        "  return model"
      ],
      "execution_count": 39,
      "outputs": []
    },
    {
      "cell_type": "code",
      "metadata": {
        "id": "8TB1ZkMtOHdc",
        "colab": {
          "base_uri": "https://localhost:8080/"
        },
        "outputId": "82df8e2f-60e0-4624-abe3-62812f4c6583"
      },
      "source": [
        "#dnn_model = build_and_compile_model(normalizer)\n",
        "\n",
        "dnn_model_2 = model_2(normalizer)\n",
        "dnn_model_2.summary()"
      ],
      "execution_count": 40,
      "outputs": [
        {
          "output_type": "stream",
          "name": "stdout",
          "text": [
            "Model: \"sequential_1\"\n",
            "_________________________________________________________________\n",
            " Layer (type)                Output Shape              Param #   \n",
            "=================================================================\n",
            " normalization (Normalizatio  (None, 3)                7         \n",
            " n)                                                              \n",
            "                                                                 \n",
            " dense_3 (Dense)             (None, 16)                64        \n",
            "                                                                 \n",
            " dense_4 (Dense)             (None, 16)                272       \n",
            "                                                                 \n",
            " dense_5 (Dense)             (None, 42)                714       \n",
            "                                                                 \n",
            "=================================================================\n",
            "Total params: 1,057\n",
            "Trainable params: 1,050\n",
            "Non-trainable params: 7\n",
            "_________________________________________________________________\n"
          ]
        }
      ]
    },
    {
      "cell_type": "code",
      "metadata": {
        "id": "ZnkjOBPGOHp0",
        "colab": {
          "base_uri": "https://localhost:8080/",
          "height": 689
        },
        "outputId": "0c5d7f6d-66a9-4888-8e32-ccd72de93cc2"
      },
      "source": [
        "%%time\n",
        "history = dnn_model_2.fit(\n",
        "    train_features, train_labels,\n",
        "    validation_split=0.1,\n",
        "    callbacks=[PlotLossesKeras()],\n",
        "    verbose=1, epochs=400, batch_size = 32)"
      ],
      "execution_count": 41,
      "outputs": [
        {
          "output_type": "display_data",
          "data": {
            "text/plain": [
              "<Figure size 864x576 with 2 Axes>"
            ],
            "image/png": "[encoded data removed]"
          },
          "metadata": {
            "needs_background": "light"
          }
        },
        {
          "output_type": "stream",
          "name": "stdout",
          "text": [
            "Loss\n",
            "\ttraining         \t (min:    0.138, max:   48.863, cur:    0.142)\n",
            "\tvalidation       \t (min:    0.082, max:   47.514, cur:    0.150)\n",
            "\b\b\b\b\b\b\b\b\b\b\b\b\b\b\b\b\b\b\b\b\b\b\b\b\b\b\b\b\b\b\b\b\b\b\b\b\b\b\b\b\b\b\b\b\b\b\b\b\b\b\b\b\b\b\b\b\b\b\b\b\b\b\b\b\b\r127/127 [==============================] - 1s 4ms/step - loss: 0.1420 - val_loss: 0.1497\n",
            "CPU times: user 4min 3s, sys: 49.4 s, total: 4min 52s\n",
            "Wall time: 4min 22s\n"
          ]
        }
      ]
    },
    {
      "cell_type": "code",
      "metadata": {
        "id": "nXZKOtwxOHti"
      },
      "source": [
        "def plot_loss(history):\n",
        "  plt.plot(history.history['loss'], label='loss')\n",
        "  plt.plot(history.history['val_loss'], label='val_loss')\n",
        "  plt.ylim([0, 1])\n",
        "  plt.xlabel('Epoch')\n",
        "  plt.ylabel('RMSE')\n",
        "  plt.legend()\n",
        "  plt.grid(True)"
      ],
      "execution_count": 42,
      "outputs": []
    },
    {
      "cell_type": "code",
      "metadata": {
        "id": "OlXTBcwcXfOa"
      },
      "source": [
        "loss_df = pd.DataFrame(history.history[\"loss\"])\n",
        "loss_df.columns =['Model 2']\n",
        "loss_df.to_excel('Model_2.xlsx')"
      ],
      "execution_count": null,
      "outputs": []
    },
    {
      "cell_type": "code",
      "metadata": {
        "id": "QoXkzPq_tApU"
      },
      "source": [
        "val_loss_df = pd.DataFrame(history.history[\"val_loss\"])\n",
        "val_loss_df.columns =['Model 2']\n",
        "val_loss_df.to_excel('val_Model_2.xlsx')"
      ],
      "execution_count": null,
      "outputs": []
    },
    {
      "cell_type": "code",
      "metadata": {
        "id": "g4P5PvRaOZRh",
        "colab": {
          "base_uri": "https://localhost:8080/",
          "height": 283
        },
        "outputId": "5582743a-1fa0-4ed9-87ee-84722eaf1e3b"
      },
      "source": [
        "plot_loss(history)"
      ],
      "execution_count": 43,
      "outputs": [
        {
          "output_type": "display_data",
          "data": {
            "text/plain": [
              "<Figure size 432x288 with 1 Axes>"
            ],
            "image/png": "[encoded data removed]"
          },
          "metadata": {
            "needs_background": "light"
          }
        }
      ]
    },
    {
      "cell_type": "code",
      "metadata": {
        "id": "2_O3aJFZOcd5",
        "colab": {
          "base_uri": "https://localhost:8080/",
          "height": 300
        },
        "outputId": "f1c37480-b468-4c85-bc7e-28dd06eb6ac6"
      },
      "source": [
        "test_predictions = dnn_model_2.predict(test_features)\n",
        "\n",
        "a = plt.axes(aspect='equal')\n",
        "plt.scatter(test_labels, test_predictions)\n",
        "plt.xlabel('True Values')\n",
        "plt.ylabel('Predictions')\n",
        "lims = [0, 160]\n",
        "plt.xlim(lims)\n",
        "plt.ylim(lims)\n",
        "_ = plt.plot(lims, lims)\n"
      ],
      "execution_count": 44,
      "outputs": [
        {
          "output_type": "stream",
          "name": "stdout",
          "text": [
            "16/16 [==============================] - 0s 2ms/step\n"
          ]
        },
        {
          "output_type": "display_data",
          "data": {
            "text/plain": [
              "<Figure size 432x288 with 1 Axes>"
            ],
            "image/png": "[encoded data removed]"
          },
          "metadata": {
            "needs_background": "light"
          }
        }
      ]
    },
    {
      "cell_type": "code",
      "metadata": {
        "id": "XCa3MAedOgAc"
      },
      "source": [
        "# error = test_predictions - test_labels\n",
        "# plt.hist(error, bins=25)\n",
        "# plt.xlabel('Prediction Error')\n",
        "# _ = plt.ylabel('Count')"
      ],
      "execution_count": null,
      "outputs": []
    },
    {
      "cell_type": "code",
      "metadata": {
        "id": "E8Ya3DhDOjTX"
      },
      "source": [
        "dnn_model_2.save('dnn_model_2')"
      ],
      "execution_count": 45,
      "outputs": []
    },
    {
      "cell_type": "code",
      "metadata": {
        "id": "v_ohuW4sOmZz",
        "colab": {
          "base_uri": "https://localhost:8080/"
        },
        "outputId": "d44a410e-97e2-46f5-f15b-6941fe6a5eef"
      },
      "source": [
        "# reloaded = tf.keras.models.load_model('dnn_model_2')\n",
        "\n",
        "\n",
        "test_results['Model 2'] = dnn_model_2.evaluate(test_features, test_labels, verbose=1)"
      ],
      "execution_count": 46,
      "outputs": [
        {
          "output_type": "stream",
          "name": "stdout",
          "text": [
            "16/16 [==============================] - 0s 2ms/step - loss: 0.1579\n"
          ]
        }
      ]
    },
    {
      "cell_type": "code",
      "metadata": {
        "id": "bkxX_LqROp9_",
        "colab": {
          "base_uri": "https://localhost:8080/",
          "height": 112
        },
        "outputId": "9fd69813-e43c-4b5f-f06b-a2e6c263c3b9"
      },
      "source": [
        "pd.DataFrame(test_results, index=['RMSE']).T"
      ],
      "execution_count": 47,
      "outputs": [
        {
          "output_type": "execute_result",
          "data": {
            "text/plain": [
              "             RMSE\n",
              "Model 1  0.142485\n",
              "Model 2  0.157897"
            ],
            "text/html": [
              "\n",
              "  <div id=\"df-d769c607-f3a8-4c13-a270-9c0068d5d342\">\n",
              "    <div class=\"colab-df-container\">\n",
              "      <div>\n",
              "<style scoped>\n",
              "    .dataframe tbody tr th:only-of-type {\n",
              "        vertical-align: middle;\n",
              "    }\n",
              "\n",
              "    .dataframe tbody tr th {\n",
              "        vertical-align: top;\n",
              "    }\n",
              "\n",
              "    .dataframe thead th {\n",
              "        text-align: right;\n",
              "    }\n",
              "</style>\n",
              "<table border=\"1\" class=\"dataframe\">\n",
              "  <thead>\n",
              "    <tr style=\"text-align: right;\">\n",
              "      <th></th>\n",
              "      <th>RMSE</th>\n",
              "    </tr>\n",
              "  </thead>\n",
              "  <tbody>\n",
              "    <tr>\n",
              "      <th>Model 1</th>\n",
              "      <td>0.142485</td>\n",
              "    </tr>\n",
              "    <tr>\n",
              "      <th>Model 2</th>\n",
              "      <td>0.157897</td>\n",
              "    </tr>\n",
              "  </tbody>\n",
              "</table>\n",
              "</div>\n",
              "      <button class=\"colab-df-convert\" onclick=\"convertToInteractive('df-d769c607-f3a8-4c13-a270-9c0068d5d342')\"\n",
              "              title=\"Convert this dataframe to an interactive table.\"\n",
              "              style=\"display:none;\">\n",
              "        \n",
              "  <svg xmlns=\"http://www.w3.org/2000/svg\" height=\"24px\"viewBox=\"0 0 24 24\"\n",
              "       width=\"24px\">\n",
              "    <path d=\"M0 0h24v24H0V0z\" fill=\"none\"/>\n",
              "    <path d=\"M18.56 5.44l.94 2.06.94-2.06 2.06-.94-2.06-.94-.94-2.06-.94 2.06-2.06.94zm-11 1L8.5 8.5l.94-2.06 2.06-.94-2.06-.94L8.5 2.5l-.94 2.06-2.06.94zm10 10l.94 2.06.94-2.06 2.06-.94-2.06-.94-.94-2.06-.94 2.06-2.06.94z\"/><path d=\"M17.41 7.96l-1.37-1.37c-.4-.4-.92-.59-1.43-.59-.52 0-1.04.2-1.43.59L10.3 9.45l-7.72 7.72c-.78.78-.78 2.05 0 2.83L4 21.41c.39.39.9.59 1.41.59.51 0 1.02-.2 1.41-.59l7.78-7.78 2.81-2.81c.8-.78.8-2.07 0-2.86zM5.41 20L4 18.59l7.72-7.72 1.47 1.35L5.41 20z\"/>\n",
              "  </svg>\n",
              "      </button>\n",
              "      \n",
              "  <style>\n",
              "    .colab-df-container {\n",
              "      display:flex;\n",
              "      flex-wrap:wrap;\n",
              "      gap: 12px;\n",
              "    }\n",
              "\n",
              "    .colab-df-convert {\n",
              "      background-color: #E8F0FE;\n",
              "      border: none;\n",
              "      border-radius: 50%;\n",
              "      cursor: pointer;\n",
              "      display: none;\n",
              "      fill: #1967D2;\n",
              "      height: 32px;\n",
              "      padding: 0 0 0 0;\n",
              "      width: 32px;\n",
              "    }\n",
              "\n",
              "    .colab-df-convert:hover {\n",
              "      background-color: #E2EBFA;\n",
              "      box-shadow: 0px 1px 2px rgba(60, 64, 67, 0.3), 0px 1px 3px 1px rgba(60, 64, 67, 0.15);\n",
              "      fill: #174EA6;\n",
              "    }\n",
              "\n",
              "    [theme=dark] .colab-df-convert {\n",
              "      background-color: #3B4455;\n",
              "      fill: #D2E3FC;\n",
              "    }\n",
              "\n",
              "    [theme=dark] .colab-df-convert:hover {\n",
              "      background-color: #434B5C;\n",
              "      box-shadow: 0px 1px 3px 1px rgba(0, 0, 0, 0.15);\n",
              "      filter: drop-shadow(0px 1px 2px rgba(0, 0, 0, 0.3));\n",
              "      fill: #FFFFFF;\n",
              "    }\n",
              "  </style>\n",
              "\n",
              "      <script>\n",
              "        const buttonEl =\n",
              "          document.querySelector('#df-d769c607-f3a8-4c13-a270-9c0068d5d342 button.colab-df-convert');\n",
              "        buttonEl.style.display =\n",
              "          google.colab.kernel.accessAllowed ? 'block' : 'none';\n",
              "\n",
              "        async function convertToInteractive(key) {\n",
              "          const element = document.querySelector('#df-d769c607-f3a8-4c13-a270-9c0068d5d342');\n",
              "          const dataTable =\n",
              "            await google.colab.kernel.invokeFunction('convertToInteractive',\n",
              "                                                     [key], {});\n",
              "          if (!dataTable) return;\n",
              "\n",
              "          const docLinkHtml = 'Like what you see? Visit the ' +\n",
              "            '<a target=\"_blank\" href=https://colab.research.google.com/notebooks/data_table.ipynb>data table notebook</a>'\n",
              "            + ' to learn more about interactive tables.';\n",
              "          element.innerHTML = '';\n",
              "          dataTable['output_type'] = 'display_data';\n",
              "          await google.colab.output.renderOutput(dataTable, element);\n",
              "          const docLink = document.createElement('div');\n",
              "          docLink.innerHTML = docLinkHtml;\n",
              "          element.appendChild(docLink);\n",
              "        }\n",
              "      </script>\n",
              "    </div>\n",
              "  </div>\n",
              "  "
            ]
          },
          "metadata": {},
          "execution_count": 47
        }
      ]
    },
    {
      "cell_type": "markdown",
      "metadata": {
        "id": "CO0GGNAtF9j5"
      },
      "source": [
        "# **Model 3**"
      ]
    },
    {
      "cell_type": "code",
      "metadata": {
        "id": "PjB8tMCZGHMB"
      },
      "source": [
        "def model_3(norm):\n",
        "  model = keras.Sequential([\n",
        "      norm,\n",
        "      layers.Dense(8 , activation='relu'),\n",
        "\n",
        "      layers.Dense(8, activation='relu'),\n",
        "\n",
        "      layers.Dense(8, activation='relu'),\n",
        "\n",
        "      #layers.Dense(128, activation='relu'),\n",
        "      #layers.Dense(128, activation='relu'),\n",
        " \n",
        "      layers.Dense(42)])\n",
        "\n",
        "  # model.compile(loss='mean_squared_error',\n",
        "  #               optimizer=tf.keras.optimizers.Adam(0.001))\n",
        "  \n",
        "  model.compile(optimizer = \"rmsprop\", loss = root_mean_squared_error)\n",
        "  return model"
      ],
      "execution_count": 48,
      "outputs": []
    },
    {
      "cell_type": "code",
      "metadata": {
        "id": "OE6DcDVlGHPi",
        "colab": {
          "base_uri": "https://localhost:8080/"
        },
        "outputId": "5d23d7cf-7ac6-4133-d12d-2817c6b5f9ab"
      },
      "source": [
        "#dnn_model = build_and_compile_model(normalizer)\n",
        "\n",
        "dnn_model_3 = model_3(normalizer)\n",
        "dnn_model_3.summary()"
      ],
      "execution_count": 49,
      "outputs": [
        {
          "output_type": "stream",
          "name": "stdout",
          "text": [
            "Model: \"sequential_2\"\n",
            "_________________________________________________________________\n",
            " Layer (type)                Output Shape              Param #   \n",
            "=================================================================\n",
            " normalization (Normalizatio  (None, 3)                7         \n",
            " n)                                                              \n",
            "                                                                 \n",
            " dense_6 (Dense)             (None, 8)                 32        \n",
            "                                                                 \n",
            " dense_7 (Dense)             (None, 8)                 72        \n",
            "                                                                 \n",
            " dense_8 (Dense)             (None, 8)                 72        \n",
            "                                                                 \n",
            " dense_9 (Dense)             (None, 42)                378       \n",
            "                                                                 \n",
            "=================================================================\n",
            "Total params: 561\n",
            "Trainable params: 554\n",
            "Non-trainable params: 7\n",
            "_________________________________________________________________\n"
          ]
        }
      ]
    },
    {
      "cell_type": "code",
      "metadata": {
        "id": "HRvv63MZGHSY",
        "colab": {
          "base_uri": "https://localhost:8080/",
          "height": 689
        },
        "outputId": "3fb5c57a-afce-44e3-f5e1-4ad176e174b4"
      },
      "source": [
        "%%time\n",
        "history = dnn_model_3.fit(\n",
        "    train_features, train_labels,\n",
        "    validation_split=0.1,\n",
        "    callbacks=[PlotLossesKeras()],\n",
        "    verbose=1, epochs=400, batch_size = 32)"
      ],
      "execution_count": 50,
      "outputs": [
        {
          "output_type": "display_data",
          "data": {
            "text/plain": [
              "<Figure size 864x576 with 2 Axes>"
            ],
            "image/png": "[encoded data removed]"
          },
          "metadata": {
            "needs_background": "light"
          }
        },
        {
          "output_type": "stream",
          "name": "stdout",
          "text": [
            "Loss\n",
            "\ttraining         \t (min:    0.165, max:   49.176, cur:    0.166)\n",
            "\tvalidation       \t (min:    0.088, max:   48.195, cur:    0.150)\n",
            "\b\b\b\b\b\b\b\b\b\b\b\b\b\b\b\b\b\b\b\b\b\b\b\b\b\b\b\b\b\b\b\b\b\b\b\b\b\b\b\b\b\b\b\b\b\b\b\b\b\b\b\b\b\b\b\b\b\b\b\b\b\b\b\b\b\r127/127 [==============================] - 1s 4ms/step - loss: 0.1665 - val_loss: 0.1505\n",
            "CPU times: user 4min 4s, sys: 49.6 s, total: 4min 53s\n",
            "Wall time: 4min 22s\n"
          ]
        }
      ]
    },
    {
      "cell_type": "code",
      "metadata": {
        "id": "9bcKvye_GHVa"
      },
      "source": [
        "def plot_loss(history):\n",
        "  plt.plot(history.history['loss'], label='loss')\n",
        "  plt.plot(history.history['val_loss'], label='val_loss')\n",
        "  plt.ylim([0, 6])\n",
        "  plt.xlabel('Epoch')\n",
        "  plt.ylabel('RMSE')\n",
        "  plt.legend()\n",
        "  plt.grid(True)"
      ],
      "execution_count": 51,
      "outputs": []
    },
    {
      "cell_type": "code",
      "metadata": {
        "id": "NE1Y3ruddna7"
      },
      "source": [
        "loss_df = pd.DataFrame(history.history[\"loss\"])\n",
        "loss_df.columns =['Model 3']\n",
        "loss_df.to_excel('Model_3.xlsx')"
      ],
      "execution_count": null,
      "outputs": []
    },
    {
      "cell_type": "code",
      "metadata": {
        "id": "iNlyFthmtEVp"
      },
      "source": [
        "val_loss_df = pd.DataFrame(history.history[\"val_loss\"])\n",
        "val_loss_df.columns =['Model 3']\n",
        "val_loss_df.to_excel('val_Model_3.xlsx')"
      ],
      "execution_count": null,
      "outputs": []
    },
    {
      "cell_type": "code",
      "metadata": {
        "id": "lSbNzsS9GHYH",
        "colab": {
          "base_uri": "https://localhost:8080/",
          "height": 283
        },
        "outputId": "af5ed7d8-cda6-40bd-bdf8-6304731081c7"
      },
      "source": [
        "plot_loss(history)"
      ],
      "execution_count": 52,
      "outputs": [
        {
          "output_type": "display_data",
          "data": {
            "text/plain": [
              "<Figure size 432x288 with 1 Axes>"
            ],
            "image/png": "[encoded data removed]"
          },
          "metadata": {
            "needs_background": "light"
          }
        }
      ]
    },
    {
      "cell_type": "code",
      "metadata": {
        "id": "iy1fcpO5GHas",
        "colab": {
          "base_uri": "https://localhost:8080/",
          "height": 300
        },
        "outputId": "f68f940b-c7d4-495e-e271-f383bf62ee81"
      },
      "source": [
        "test_predictions = dnn_model_3.predict(test_features)\n",
        "\n",
        "a = plt.axes(aspect='equal')\n",
        "plt.scatter(test_labels, test_predictions)\n",
        "plt.xlabel('True Values')\n",
        "plt.ylabel('Predictions')\n",
        "lims = [0, 160]\n",
        "plt.xlim(lims)\n",
        "plt.ylim(lims)\n",
        "_ = plt.plot(lims, lims)\n"
      ],
      "execution_count": 53,
      "outputs": [
        {
          "output_type": "stream",
          "name": "stdout",
          "text": [
            "16/16 [==============================] - 0s 2ms/step\n"
          ]
        },
        {
          "output_type": "display_data",
          "data": {
            "text/plain": [
              "<Figure size 432x288 with 1 Axes>"
            ],
            "image/png": "[encoded data removed]"
          },
          "metadata": {
            "needs_background": "light"
          }
        }
      ]
    },
    {
      "cell_type": "code",
      "metadata": {
        "id": "oNU1oTBMGep8"
      },
      "source": [
        "# error = test_predictions - Cl_test_labels\n",
        "# plt.hist(error, bins=25)\n",
        "# plt.xlabel('Prediction Error')\n",
        "# _ = plt.ylabel('Count')"
      ],
      "execution_count": null,
      "outputs": []
    },
    {
      "cell_type": "code",
      "metadata": {
        "id": "nTPIBBDQGiHO"
      },
      "source": [
        "dnn_model_3.save('dnn_model_3')"
      ],
      "execution_count": 54,
      "outputs": []
    },
    {
      "cell_type": "code",
      "metadata": {
        "id": "KlYghSf3GlPa",
        "colab": {
          "base_uri": "https://localhost:8080/"
        },
        "outputId": "183e5c5b-685e-46cb-c326-6818a9b9e148"
      },
      "source": [
        "#reloaded = tf.keras.models.load_model('dnn_model_3')\n",
        "\n",
        "\n",
        "test_results['Model 3'] = dnn_model_3.evaluate(test_features, test_labels, verbose=1)"
      ],
      "execution_count": 55,
      "outputs": [
        {
          "output_type": "stream",
          "name": "stdout",
          "text": [
            "16/16 [==============================] - 0s 2ms/step - loss: 0.1500\n"
          ]
        }
      ]
    },
    {
      "cell_type": "code",
      "metadata": {
        "id": "Ul_Y9A3LGoPK",
        "colab": {
          "base_uri": "https://localhost:8080/",
          "height": 143
        },
        "outputId": "0a062bde-0459-43af-983e-012dd40f37a3"
      },
      "source": [
        "pd.DataFrame(test_results, index=['RMSE']).T"
      ],
      "execution_count": 56,
      "outputs": [
        {
          "output_type": "execute_result",
          "data": {
            "text/plain": [
              "             RMSE\n",
              "Model 1  0.142485\n",
              "Model 2  0.157897\n",
              "Model 3  0.149983"
            ],
            "text/html": [
              "\n",
              "  <div id=\"df-18cec990-007e-4267-92ec-50f3b7f0cced\">\n",
              "    <div class=\"colab-df-container\">\n",
              "      <div>\n",
              "<style scoped>\n",
              "    .dataframe tbody tr th:only-of-type {\n",
              "        vertical-align: middle;\n",
              "    }\n",
              "\n",
              "    .dataframe tbody tr th {\n",
              "        vertical-align: top;\n",
              "    }\n",
              "\n",
              "    .dataframe thead th {\n",
              "        text-align: right;\n",
              "    }\n",
              "</style>\n",
              "<table border=\"1\" class=\"dataframe\">\n",
              "  <thead>\n",
              "    <tr style=\"text-align: right;\">\n",
              "      <th></th>\n",
              "      <th>RMSE</th>\n",
              "    </tr>\n",
              "  </thead>\n",
              "  <tbody>\n",
              "    <tr>\n",
              "      <th>Model 1</th>\n",
              "      <td>0.142485</td>\n",
              "    </tr>\n",
              "    <tr>\n",
              "      <th>Model 2</th>\n",
              "      <td>0.157897</td>\n",
              "    </tr>\n",
              "    <tr>\n",
              "      <th>Model 3</th>\n",
              "      <td>0.149983</td>\n",
              "    </tr>\n",
              "  </tbody>\n",
              "</table>\n",
              "</div>\n",
              "      <button class=\"colab-df-convert\" onclick=\"convertToInteractive('df-18cec990-007e-4267-92ec-50f3b7f0cced')\"\n",
              "              title=\"Convert this dataframe to an interactive table.\"\n",
              "              style=\"display:none;\">\n",
              "        \n",
              "  <svg xmlns=\"http://www.w3.org/2000/svg\" height=\"24px\"viewBox=\"0 0 24 24\"\n",
              "       width=\"24px\">\n",
              "    <path d=\"M0 0h24v24H0V0z\" fill=\"none\"/>\n",
              "    <path d=\"M18.56 5.44l.94 2.06.94-2.06 2.06-.94-2.06-.94-.94-2.06-.94 2.06-2.06.94zm-11 1L8.5 8.5l.94-2.06 2.06-.94-2.06-.94L8.5 2.5l-.94 2.06-2.06.94zm10 10l.94 2.06.94-2.06 2.06-.94-2.06-.94-.94-2.06-.94 2.06-2.06.94z\"/><path d=\"M17.41 7.96l-1.37-1.37c-.4-.4-.92-.59-1.43-.59-.52 0-1.04.2-1.43.59L10.3 9.45l-7.72 7.72c-.78.78-.78 2.05 0 2.83L4 21.41c.39.39.9.59 1.41.59.51 0 1.02-.2 1.41-.59l7.78-7.78 2.81-2.81c.8-.78.8-2.07 0-2.86zM5.41 20L4 18.59l7.72-7.72 1.47 1.35L5.41 20z\"/>\n",
              "  </svg>\n",
              "      </button>\n",
              "      \n",
              "  <style>\n",
              "    .colab-df-container {\n",
              "      display:flex;\n",
              "      flex-wrap:wrap;\n",
              "      gap: 12px;\n",
              "    }\n",
              "\n",
              "    .colab-df-convert {\n",
              "      background-color: #E8F0FE;\n",
              "      border: none;\n",
              "      border-radius: 50%;\n",
              "      cursor: pointer;\n",
              "      display: none;\n",
              "      fill: #1967D2;\n",
              "      height: 32px;\n",
              "      padding: 0 0 0 0;\n",
              "      width: 32px;\n",
              "    }\n",
              "\n",
              "    .colab-df-convert:hover {\n",
              "      background-color: #E2EBFA;\n",
              "      box-shadow: 0px 1px 2px rgba(60, 64, 67, 0.3), 0px 1px 3px 1px rgba(60, 64, 67, 0.15);\n",
              "      fill: #174EA6;\n",
              "    }\n",
              "\n",
              "    [theme=dark] .colab-df-convert {\n",
              "      background-color: #3B4455;\n",
              "      fill: #D2E3FC;\n",
              "    }\n",
              "\n",
              "    [theme=dark] .colab-df-convert:hover {\n",
              "      background-color: #434B5C;\n",
              "      box-shadow: 0px 1px 3px 1px rgba(0, 0, 0, 0.15);\n",
              "      filter: drop-shadow(0px 1px 2px rgba(0, 0, 0, 0.3));\n",
              "      fill: #FFFFFF;\n",
              "    }\n",
              "  </style>\n",
              "\n",
              "      <script>\n",
              "        const buttonEl =\n",
              "          document.querySelector('#df-18cec990-007e-4267-92ec-50f3b7f0cced button.colab-df-convert');\n",
              "        buttonEl.style.display =\n",
              "          google.colab.kernel.accessAllowed ? 'block' : 'none';\n",
              "\n",
              "        async function convertToInteractive(key) {\n",
              "          const element = document.querySelector('#df-18cec990-007e-4267-92ec-50f3b7f0cced');\n",
              "          const dataTable =\n",
              "            await google.colab.kernel.invokeFunction('convertToInteractive',\n",
              "                                                     [key], {});\n",
              "          if (!dataTable) return;\n",
              "\n",
              "          const docLinkHtml = 'Like what you see? Visit the ' +\n",
              "            '<a target=\"_blank\" href=https://colab.research.google.com/notebooks/data_table.ipynb>data table notebook</a>'\n",
              "            + ' to learn more about interactive tables.';\n",
              "          element.innerHTML = '';\n",
              "          dataTable['output_type'] = 'display_data';\n",
              "          await google.colab.output.renderOutput(dataTable, element);\n",
              "          const docLink = document.createElement('div');\n",
              "          docLink.innerHTML = docLinkHtml;\n",
              "          element.appendChild(docLink);\n",
              "        }\n",
              "      </script>\n",
              "    </div>\n",
              "  </div>\n",
              "  "
            ]
          },
          "metadata": {},
          "execution_count": 56
        }
      ]
    },
    {
      "cell_type": "markdown",
      "metadata": {
        "id": "Ag74I6L8nX86"
      },
      "source": [
        "#**Model 4**"
      ]
    },
    {
      "cell_type": "code",
      "metadata": {
        "id": "_Ez4i8zMe5i8"
      },
      "source": [
        "def model_4(norm):\n",
        "  model = keras.Sequential([\n",
        "      norm,\n",
        "\n",
        "\n",
        "      layers.Dense(128, activation='relu'),\n",
        "      layers.Dense(128, activation='relu'),\n",
        "      layers.Dense(128, activation='relu'),\n",
        "      layers.Dense(256, activation='relu'),\n",
        "\n",
        "      layers.Dense(256, activation='relu'),\n",
        "\n",
        "      layers.Dense(256, activation='relu'),\n",
        "\n",
        "      layers.Dense(1)])\n",
        "\n",
        "  # model.compile(loss='mean_squared_error',\n",
        "  #               optimizer=tf.keras.optimizers.Adam(0.001))\n",
        "  \n",
        "  model.compile(optimizer = \"rmsprop\", loss = root_mean_squared_error)\n",
        "  return model"
      ],
      "execution_count": null,
      "outputs": []
    },
    {
      "cell_type": "code",
      "metadata": {
        "id": "Nb96dyfKnj4c"
      },
      "source": [
        "#dnn_model = build_and_compile_model(normalizer)\n",
        "\n",
        "dnn_model_4 = model_4(normalizer)\n",
        "dnn_model_4.summary()"
      ],
      "execution_count": null,
      "outputs": []
    },
    {
      "cell_type": "code",
      "metadata": {
        "id": "mV65EmpDnnrp"
      },
      "source": [
        "%%time\n",
        "history = dnn_model_4.fit(\n",
        "    train_features, train_labels,\n",
        "    validation_split=0.2,\n",
        "    callbacks=[PlotLossesKeras()],\n",
        "    verbose=1, epochs=300, batch_size = 25)"
      ],
      "execution_count": null,
      "outputs": []
    },
    {
      "cell_type": "code",
      "metadata": {
        "id": "_hs_qhGwnxLc"
      },
      "source": [
        "def plot_loss(history):\n",
        "  plt.plot(history.history['loss'], label='loss')\n",
        "  plt.plot(history.history['val_loss'], label='val_loss')\n",
        "  plt.ylim([0, 0.3])\n",
        "  plt.xlabel('Epoch')\n",
        "  plt.ylabel('RMSE')\n",
        "  plt.legend()\n",
        "  plt.grid(True)"
      ],
      "execution_count": null,
      "outputs": []
    },
    {
      "cell_type": "code",
      "metadata": {
        "id": "-WSMmEMBn0dX"
      },
      "source": [
        "loss_df = pd.DataFrame(history.history[\"loss\"])\n",
        "loss_df.columns =['Model 4']\n",
        "loss_df.to_excel('Model_4.xlsx')"
      ],
      "execution_count": null,
      "outputs": []
    },
    {
      "cell_type": "code",
      "metadata": {
        "id": "70xBx9octIog"
      },
      "source": [
        "val_loss_df = pd.DataFrame(history.history[\"val_loss\"])\n",
        "val_loss_df.columns =['Model 4']\n",
        "val_loss_df.to_excel('val_Model_4.xlsx')"
      ],
      "execution_count": null,
      "outputs": []
    },
    {
      "cell_type": "code",
      "metadata": {
        "id": "exmF3lgjn6S0"
      },
      "source": [
        "plot_loss(history)"
      ],
      "execution_count": null,
      "outputs": []
    },
    {
      "cell_type": "code",
      "metadata": {
        "id": "U3uVcfU1n-Vj"
      },
      "source": [
        "test_predictions = dnn_model_4.predict(test_features).flatten()\n",
        "\n",
        "a = plt.axes(aspect='equal')\n",
        "plt.scatter(test_labels, test_predictions)\n",
        "plt.xlabel('True Values')\n",
        "plt.ylabel('Predictions')\n",
        "lims = [0, 2]\n",
        "plt.xlim(lims)\n",
        "plt.ylim(lims)\n",
        "_ = plt.plot(lims, lims)\n"
      ],
      "execution_count": null,
      "outputs": []
    },
    {
      "cell_type": "code",
      "metadata": {
        "id": "s6Q1KdXOoCJ_"
      },
      "source": [
        "# error = test_predictions - Cl_test_labels\n",
        "# plt.hist(error, bins=25)\n",
        "# plt.xlabel('Prediction Error')\n",
        "# _ = plt.ylabel('Count')"
      ],
      "execution_count": null,
      "outputs": []
    },
    {
      "cell_type": "code",
      "metadata": {
        "id": "ZT0w6Z6VoFpS"
      },
      "source": [
        "dnn_model_4.save('dnn_model_4')"
      ],
      "execution_count": null,
      "outputs": []
    },
    {
      "cell_type": "code",
      "metadata": {
        "id": "PsKJ95XwoJrD"
      },
      "source": [
        "#reloaded = tf.keras.models.load_model('dnn_model_4')\n",
        "\n",
        "\n",
        "test_results['Model 4'] = dnn_model_4.evaluate(test_features, test_labels, verbose=1)"
      ],
      "execution_count": null,
      "outputs": []
    },
    {
      "cell_type": "code",
      "metadata": {
        "id": "qolVNOCQoMmi"
      },
      "source": [
        "pd.DataFrame(test_results, index=['RMSE']).T"
      ],
      "execution_count": null,
      "outputs": []
    },
    {
      "cell_type": "markdown",
      "metadata": {
        "id": "UJDqyRJ_Cy1k"
      },
      "source": [
        "#**Model 5**"
      ]
    },
    {
      "cell_type": "code",
      "metadata": {
        "id": "zMDx2r5FC4OJ"
      },
      "source": [
        "def model_5(norm):\n",
        "  model = keras.Sequential([\n",
        "      norm,\n",
        "      layers.Dense(256, activation='relu'),\n",
        "\n",
        "      layers.Dense(256, activation='relu'),\n",
        "\n",
        "      layers.Dense(256, activation='relu'),\n",
        "\n",
        "      layers.Dense(256, activation='relu'),\n",
        "      layers.Dense(256, activation='relu'),\n",
        "      # layers.Dense(128, activation='relu'),\n",
        "\n",
        "      layers.Dense(1)])\n",
        "\n",
        "  # model.compile(loss='mean_squared_error',\n",
        "  #               optimizer=tf.keras.optimizers.Adam(0.001))\n",
        "  \n",
        "  model.compile(optimizer = \"rmsprop\", loss = root_mean_squared_error)\n",
        "  return model"
      ],
      "execution_count": null,
      "outputs": []
    },
    {
      "cell_type": "code",
      "metadata": {
        "id": "QAhb3vpIC84e"
      },
      "source": [
        "#dnn_model = build_and_compile_model(normalizer)\n",
        "\n",
        "dnn_model_5 = model_5(normalizer)\n",
        "dnn_model_5.summary()"
      ],
      "execution_count": null,
      "outputs": []
    },
    {
      "cell_type": "code",
      "metadata": {
        "id": "cFvXBiMwDA0a"
      },
      "source": [
        "%%time\n",
        "history = dnn_model_5.fit(\n",
        "    train_features, train_labels,\n",
        "    validation_split=0.2,\n",
        "    callbacks=[PlotLossesKeras()],\n",
        "    verbose=1, epochs=300, batch_size = 25)"
      ],
      "execution_count": null,
      "outputs": []
    },
    {
      "cell_type": "code",
      "metadata": {
        "id": "BP_DdIcwDLp5"
      },
      "source": [
        "def plot_loss(history):\n",
        "  plt.plot(history.history['loss'], label='loss')\n",
        "  plt.plot(history.history['val_loss'], label='val_loss')\n",
        "  plt.ylim([0, 0.3])\n",
        "  plt.xlabel('Epoch')\n",
        "  plt.ylabel('RMSE')\n",
        "  plt.legend()\n",
        "  plt.grid(True)"
      ],
      "execution_count": null,
      "outputs": []
    },
    {
      "cell_type": "code",
      "metadata": {
        "id": "v7ConB4_DPiJ"
      },
      "source": [
        "loss_df = pd.DataFrame(history.history[\"loss\"])\n",
        "loss_df.columns =['Model 5']\n",
        "loss_df.to_excel('Model_5.xlsx')"
      ],
      "execution_count": null,
      "outputs": []
    },
    {
      "cell_type": "code",
      "metadata": {
        "id": "FMKnUkhwtMxG"
      },
      "source": [
        "val_loss_df = pd.DataFrame(history.history[\"val_loss\"])\n",
        "val_loss_df.columns =['Model 5']\n",
        "val_loss_df.to_excel('val_Model_5.xlsx')"
      ],
      "execution_count": null,
      "outputs": []
    },
    {
      "cell_type": "code",
      "metadata": {
        "id": "EIcuq2VMDVBf"
      },
      "source": [
        "plot_loss(history)"
      ],
      "execution_count": null,
      "outputs": []
    },
    {
      "cell_type": "code",
      "metadata": {
        "id": "rtxl2PPxDYkN"
      },
      "source": [
        "test_predictions = dnn_model_5.predict(test_features).flatten()\n",
        "\n",
        "a = plt.axes(aspect='equal')\n",
        "plt.scatter(test_labels, test_predictions)\n",
        "plt.xlabel('True Values')\n",
        "plt.ylabel('Predictions')\n",
        "lims = [0, 2]\n",
        "plt.xlim(lims)\n",
        "plt.ylim(lims)\n",
        "_ = plt.plot(lims, lims)\n"
      ],
      "execution_count": null,
      "outputs": []
    },
    {
      "cell_type": "code",
      "metadata": {
        "id": "vyXMvVgUDb2m"
      },
      "source": [
        "# error = test_predictions - Cl_test_labels\n",
        "# plt.hist(error, bins=25)\n",
        "# plt.xlabel('Prediction Error')\n",
        "# _ = plt.ylabel('Count')"
      ],
      "execution_count": null,
      "outputs": []
    },
    {
      "cell_type": "code",
      "metadata": {
        "id": "t92qKgFTDfUB"
      },
      "source": [
        "dnn_model_5.save('dnn_model_5')"
      ],
      "execution_count": null,
      "outputs": []
    },
    {
      "cell_type": "code",
      "metadata": {
        "id": "nSZJdtaQDilv"
      },
      "source": [
        "#reloaded = tf.keras.models.load_model('dnn_model_5')\n",
        "\n",
        "\n",
        "test_results['Model 5'] = dnn_model_5.evaluate(test_features, test_labels, verbose=1)"
      ],
      "execution_count": null,
      "outputs": []
    },
    {
      "cell_type": "code",
      "metadata": {
        "id": "tm06e19PDl62"
      },
      "source": [
        "pd.DataFrame(test_results, index=['RMSE']).T"
      ],
      "execution_count": null,
      "outputs": []
    },
    {
      "cell_type": "markdown",
      "metadata": {
        "id": "NuXlXIf2MjvF"
      },
      "source": [
        "#**Loss DataFrame**"
      ]
    },
    {
      "cell_type": "code",
      "metadata": {
        "id": "uW__IZtoMpVu"
      },
      "source": [
        "d1 = pd.read_excel('/content/Model_1.xlsx', index_col = 0)\n",
        "d2 = pd.read_excel('/content/Model_2.xlsx', index_col = 0)\n",
        "d3 = pd.read_excel('/content/Model_3.xlsx', index_col = 0)\n",
        "d4 = pd.read_excel('/content/Model_4.xlsx', index_col = 0)\n",
        "d5 = pd.read_excel('/content/Model_5.xlsx', index_col = 0)"
      ],
      "execution_count": null,
      "outputs": []
    },
    {
      "cell_type": "code",
      "metadata": {
        "id": "hDsatCL2NRPg"
      },
      "source": [
        "l = pd.concat([d1, d2, d3, d4, d5],axis=1)"
      ],
      "execution_count": null,
      "outputs": []
    },
    {
      "cell_type": "code",
      "metadata": {
        "id": "U-_mv2kPNadg"
      },
      "source": [
        "l.to_excel(\"loss.xls\")"
      ],
      "execution_count": null,
      "outputs": []
    },
    {
      "cell_type": "code",
      "metadata": {
        "id": "J0J3_sf6tRvM"
      },
      "source": [
        "d1 = pd.read_excel('/content/val_Model_1.xlsx', index_col = 0)\n",
        "d2 = pd.read_excel('/content/val_Model_2.xlsx', index_col = 0)\n",
        "d3 = pd.read_excel('/content/val_Model_3.xlsx', index_col = 0)\n",
        "d4 = pd.read_excel('/content/val_Model_4.xlsx', index_col = 0)\n",
        "d5 = pd.read_excel('/content/val_Model_5.xlsx', index_col = 0)"
      ],
      "execution_count": null,
      "outputs": []
    },
    {
      "cell_type": "code",
      "metadata": {
        "id": "5L2E0BmmtYrD"
      },
      "source": [
        "l = pd.concat([d1, d2, d3, d4, d5],axis=1)"
      ],
      "execution_count": null,
      "outputs": []
    },
    {
      "cell_type": "code",
      "metadata": {
        "id": "zb_L6ixYtaIU"
      },
      "source": [
        "l.to_excel(\"val_loss.xls\")"
      ],
      "execution_count": null,
      "outputs": []
    },
    {
      "cell_type": "markdown",
      "source": [
        "# validation"
      ],
      "metadata": {
        "id": "nQm-1_8OKI84"
      }
    },
    {
      "cell_type": "code",
      "source": [
        "exp = pd.read_excel('/content/validation_data - for_pred.xlsx')\n",
        "del exp['cl']\n",
        "exp.head(42)"
      ],
      "metadata": {
        "id": "tbWCXm5qKzR-"
      },
      "execution_count": null,
      "outputs": []
    },
    {
      "cell_type": "code",
      "metadata": {
        "id": "_gd1ZM_0LS0o"
      },
      "source": [
        "#test_predictions = dnn_model_1.predict(exp.iloc[:,0:2]).flatten()\n",
        "test_predictions = dnn_model_2.predict(exp.iloc[:,0:3])\n",
        "test_predictions\n",
        "a = plt.axes(aspect='equal')\n",
        "plt.scatter(exp.iloc[:,3], test_predictions)\n",
        "plt.xlabel('True Values')\n",
        "plt.ylabel('Predictions')\n",
        "lims = [0.08, 1.1]\n",
        "plt.xlim(lims)\n",
        "plt.ylim(lims)\n",
        "_ = plt.plot(lims, lims)\n",
        "dnn_model_2.evaluate(exp.iloc[:,0:3], exp.iloc[:,3], verbose=1)\n"
      ],
      "execution_count": null,
      "outputs": []
    },
    {
      "cell_type": "code",
      "source": [
        "\n",
        "predcl = pd.DataFrame(test_predictions)\n",
        "predcl.head()\n",
        "adding = exp.iloc[:,0:4]\n",
        "adding\n",
        "\n",
        "adding['pred_cd'] = predcl.iloc[:,0:3].values\n",
        "\n",
        "adding.to_excel('ml_cd_model2.xls')"
      ],
      "metadata": {
        "id": "-TTu48RWlNG5"
      },
      "execution_count": null,
      "outputs": []
    },
    {
      "cell_type": "code",
      "source": [
        "0.0172, 0.0263, 0.0199, 0.0283, 0.0142"
      ],
      "metadata": {
        "id": "TEV-jfDAN71R"
      },
      "execution_count": null,
      "outputs": []
    },
    {
      "cell_type": "markdown",
      "source": [
        "NACA 0012"
      ],
      "metadata": {
        "id": "-0hzWJI1KZcc"
      }
    },
    {
      "cell_type": "code",
      "source": [
        "plt.scatter(adding.iloc[0:16,2], adding.iloc[0:16,3])\n",
        "plt.scatter(adding.iloc[0:16,2], adding.iloc[0:16,4])"
      ],
      "metadata": {
        "id": "D2fxx2jwKacO"
      },
      "execution_count": null,
      "outputs": []
    },
    {
      "cell_type": "markdown",
      "source": [
        "NACA 0015"
      ],
      "metadata": {
        "id": "kKOFfnFILcIg"
      }
    },
    {
      "cell_type": "code",
      "source": [
        "plt.scatter(adding.iloc[17:32,2], adding.iloc[17:32,3])\n",
        "plt.scatter(adding.iloc[17:32,2], adding.iloc[17:32,4])"
      ],
      "metadata": {
        "id": "mhlb2xG8LVn_"
      },
      "execution_count": null,
      "outputs": []
    },
    {
      "cell_type": "markdown",
      "source": [
        "NACA 0018"
      ],
      "metadata": {
        "id": "5u03WzNsLd5O"
      }
    },
    {
      "cell_type": "code",
      "source": [
        "plt.scatter(adding.iloc[33:49,2], adding.iloc[33:49,3])\n",
        "plt.scatter(adding.iloc[33:49,2], adding.iloc[33:49,4])"
      ],
      "metadata": {
        "id": "RgC8E5ZZLaol"
      },
      "execution_count": null,
      "outputs": []
    },
    {
      "cell_type": "code",
      "source": [],
      "metadata": {
        "id": "RzN7lJefLgul"
      },
      "execution_count": null,
      "outputs": []
    }
  ]
}